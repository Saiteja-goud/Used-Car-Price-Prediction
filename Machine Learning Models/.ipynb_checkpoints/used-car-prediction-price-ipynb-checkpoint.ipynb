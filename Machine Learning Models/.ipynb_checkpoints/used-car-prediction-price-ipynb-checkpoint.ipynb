{
 "cells": [
  {
   "cell_type": "code",
   "execution_count": 1,
   "id": "4f94fb24",
   "metadata": {
    "execution": {
     "iopub.execute_input": "2024-10-24T14:04:37.417927Z",
     "iopub.status.busy": "2024-10-24T14:04:37.417492Z",
     "iopub.status.idle": "2024-10-24T14:04:40.343207Z",
     "shell.execute_reply": "2024-10-24T14:04:40.341910Z"
    },
    "papermill": {
     "duration": 2.959996,
     "end_time": "2024-10-24T14:04:40.346174",
     "exception": false,
     "start_time": "2024-10-24T14:04:37.386178",
     "status": "completed"
    },
    "tags": []
   },
   "outputs": [],
   "source": [
    "import numpy as np \n",
    "import pandas as pd \n",
    "import matplotlib.pyplot as plt \n",
    "import seaborn as sns \n",
    "import warnings \n",
    "warnings.filterwarnings('ignore')"
   ]
  },
  {
   "cell_type": "code",
   "execution_count": 2,
   "id": "4fd07c7c",
   "metadata": {
    "execution": {
     "iopub.execute_input": "2024-10-24T14:04:40.404219Z",
     "iopub.status.busy": "2024-10-24T14:04:40.403606Z",
     "iopub.status.idle": "2024-10-24T14:04:40.457884Z",
     "shell.execute_reply": "2024-10-24T14:04:40.456763Z"
    },
    "papermill": {
     "duration": 0.086492,
     "end_time": "2024-10-24T14:04:40.460767",
     "exception": false,
     "start_time": "2024-10-24T14:04:40.374275",
     "status": "completed"
    },
    "tags": []
   },
   "outputs": [],
   "source": [
    "df = pd.read_csv('used_cars.csv')"
   ]
  },
  {
   "cell_type": "code",
   "execution_count": 3,
   "id": "f60138fb",
   "metadata": {
    "execution": {
     "iopub.execute_input": "2024-10-24T14:04:40.516349Z",
     "iopub.status.busy": "2024-10-24T14:04:40.515901Z",
     "iopub.status.idle": "2024-10-24T14:04:40.544573Z",
     "shell.execute_reply": "2024-10-24T14:04:40.543092Z"
    },
    "papermill": {
     "duration": 0.059601,
     "end_time": "2024-10-24T14:04:40.547372",
     "exception": false,
     "start_time": "2024-10-24T14:04:40.487771",
     "status": "completed"
    },
    "tags": []
   },
   "outputs": [
    {
     "data": {
      "text/html": [
       "<div>\n",
       "<style scoped>\n",
       "    .dataframe tbody tr th:only-of-type {\n",
       "        vertical-align: middle;\n",
       "    }\n",
       "\n",
       "    .dataframe tbody tr th {\n",
       "        vertical-align: top;\n",
       "    }\n",
       "\n",
       "    .dataframe thead th {\n",
       "        text-align: right;\n",
       "    }\n",
       "</style>\n",
       "<table border=\"1\" class=\"dataframe\">\n",
       "  <thead>\n",
       "    <tr style=\"text-align: right;\">\n",
       "      <th></th>\n",
       "      <th>brand</th>\n",
       "      <th>model</th>\n",
       "      <th>model_year</th>\n",
       "      <th>milage</th>\n",
       "      <th>fuel_type</th>\n",
       "      <th>engine</th>\n",
       "      <th>transmission</th>\n",
       "      <th>ext_col</th>\n",
       "      <th>int_col</th>\n",
       "      <th>accident</th>\n",
       "      <th>clean_title</th>\n",
       "      <th>price</th>\n",
       "    </tr>\n",
       "  </thead>\n",
       "  <tbody>\n",
       "    <tr>\n",
       "      <th>0</th>\n",
       "      <td>Ford</td>\n",
       "      <td>Utility Police Interceptor Base</td>\n",
       "      <td>2013</td>\n",
       "      <td>51,000 mi.</td>\n",
       "      <td>E85 Flex Fuel</td>\n",
       "      <td>300.0HP 3.7L V6 Cylinder Engine Flex Fuel Capa...</td>\n",
       "      <td>6-Speed A/T</td>\n",
       "      <td>Black</td>\n",
       "      <td>Black</td>\n",
       "      <td>At least 1 accident or damage reported</td>\n",
       "      <td>Yes</td>\n",
       "      <td>$10,300</td>\n",
       "    </tr>\n",
       "    <tr>\n",
       "      <th>1</th>\n",
       "      <td>Hyundai</td>\n",
       "      <td>Palisade SEL</td>\n",
       "      <td>2021</td>\n",
       "      <td>34,742 mi.</td>\n",
       "      <td>Gasoline</td>\n",
       "      <td>3.8L V6 24V GDI DOHC</td>\n",
       "      <td>8-Speed Automatic</td>\n",
       "      <td>Moonlight Cloud</td>\n",
       "      <td>Gray</td>\n",
       "      <td>At least 1 accident or damage reported</td>\n",
       "      <td>Yes</td>\n",
       "      <td>$38,005</td>\n",
       "    </tr>\n",
       "    <tr>\n",
       "      <th>2</th>\n",
       "      <td>Lexus</td>\n",
       "      <td>RX 350 RX 350</td>\n",
       "      <td>2022</td>\n",
       "      <td>22,372 mi.</td>\n",
       "      <td>Gasoline</td>\n",
       "      <td>3.5 Liter DOHC</td>\n",
       "      <td>Automatic</td>\n",
       "      <td>Blue</td>\n",
       "      <td>Black</td>\n",
       "      <td>None reported</td>\n",
       "      <td>NaN</td>\n",
       "      <td>$54,598</td>\n",
       "    </tr>\n",
       "    <tr>\n",
       "      <th>3</th>\n",
       "      <td>INFINITI</td>\n",
       "      <td>Q50 Hybrid Sport</td>\n",
       "      <td>2015</td>\n",
       "      <td>88,900 mi.</td>\n",
       "      <td>Hybrid</td>\n",
       "      <td>354.0HP 3.5L V6 Cylinder Engine Gas/Electric H...</td>\n",
       "      <td>7-Speed A/T</td>\n",
       "      <td>Black</td>\n",
       "      <td>Black</td>\n",
       "      <td>None reported</td>\n",
       "      <td>Yes</td>\n",
       "      <td>$15,500</td>\n",
       "    </tr>\n",
       "    <tr>\n",
       "      <th>4</th>\n",
       "      <td>Audi</td>\n",
       "      <td>Q3 45 S line Premium Plus</td>\n",
       "      <td>2021</td>\n",
       "      <td>9,835 mi.</td>\n",
       "      <td>Gasoline</td>\n",
       "      <td>2.0L I4 16V GDI DOHC Turbo</td>\n",
       "      <td>8-Speed Automatic</td>\n",
       "      <td>Glacier White Metallic</td>\n",
       "      <td>Black</td>\n",
       "      <td>None reported</td>\n",
       "      <td>NaN</td>\n",
       "      <td>$34,999</td>\n",
       "    </tr>\n",
       "  </tbody>\n",
       "</table>\n",
       "</div>"
      ],
      "text/plain": [
       "      brand                            model  model_year      milage  \\\n",
       "0      Ford  Utility Police Interceptor Base        2013  51,000 mi.   \n",
       "1   Hyundai                     Palisade SEL        2021  34,742 mi.   \n",
       "2     Lexus                    RX 350 RX 350        2022  22,372 mi.   \n",
       "3  INFINITI                 Q50 Hybrid Sport        2015  88,900 mi.   \n",
       "4      Audi        Q3 45 S line Premium Plus        2021   9,835 mi.   \n",
       "\n",
       "       fuel_type                                             engine  \\\n",
       "0  E85 Flex Fuel  300.0HP 3.7L V6 Cylinder Engine Flex Fuel Capa...   \n",
       "1       Gasoline                               3.8L V6 24V GDI DOHC   \n",
       "2       Gasoline                                     3.5 Liter DOHC   \n",
       "3         Hybrid  354.0HP 3.5L V6 Cylinder Engine Gas/Electric H...   \n",
       "4       Gasoline                         2.0L I4 16V GDI DOHC Turbo   \n",
       "\n",
       "        transmission                 ext_col int_col  \\\n",
       "0        6-Speed A/T                   Black   Black   \n",
       "1  8-Speed Automatic         Moonlight Cloud    Gray   \n",
       "2          Automatic                    Blue   Black   \n",
       "3        7-Speed A/T                   Black   Black   \n",
       "4  8-Speed Automatic  Glacier White Metallic   Black   \n",
       "\n",
       "                                 accident clean_title    price  \n",
       "0  At least 1 accident or damage reported         Yes  $10,300  \n",
       "1  At least 1 accident or damage reported         Yes  $38,005  \n",
       "2                           None reported         NaN  $54,598  \n",
       "3                           None reported         Yes  $15,500  \n",
       "4                           None reported         NaN  $34,999  "
      ]
     },
     "execution_count": 3,
     "metadata": {},
     "output_type": "execute_result"
    }
   ],
   "source": [
    "df.head()"
   ]
  },
  {
   "cell_type": "code",
   "execution_count": 4,
   "id": "cb0b443c",
   "metadata": {
    "execution": {
     "iopub.execute_input": "2024-10-24T14:04:40.605179Z",
     "iopub.status.busy": "2024-10-24T14:04:40.604726Z",
     "iopub.status.idle": "2024-10-24T14:04:40.645036Z",
     "shell.execute_reply": "2024-10-24T14:04:40.643913Z"
    },
    "papermill": {
     "duration": 0.071687,
     "end_time": "2024-10-24T14:04:40.647618",
     "exception": false,
     "start_time": "2024-10-24T14:04:40.575931",
     "status": "completed"
    },
    "tags": []
   },
   "outputs": [
    {
     "name": "stdout",
     "output_type": "stream",
     "text": [
      "<class 'pandas.core.frame.DataFrame'>\n",
      "RangeIndex: 4009 entries, 0 to 4008\n",
      "Data columns (total 12 columns):\n",
      " #   Column        Non-Null Count  Dtype \n",
      "---  ------        --------------  ----- \n",
      " 0   brand         4009 non-null   object\n",
      " 1   model         4009 non-null   object\n",
      " 2   model_year    4009 non-null   int64 \n",
      " 3   milage        4009 non-null   object\n",
      " 4   fuel_type     3839 non-null   object\n",
      " 5   engine        4009 non-null   object\n",
      " 6   transmission  4009 non-null   object\n",
      " 7   ext_col       4009 non-null   object\n",
      " 8   int_col       4009 non-null   object\n",
      " 9   accident      3896 non-null   object\n",
      " 10  clean_title   3413 non-null   object\n",
      " 11  price         4009 non-null   object\n",
      "dtypes: int64(1), object(11)\n",
      "memory usage: 376.0+ KB\n"
     ]
    }
   ],
   "source": [
    "df.info()"
   ]
  },
  {
   "cell_type": "code",
   "execution_count": 5,
   "id": "5c831114",
   "metadata": {
    "execution": {
     "iopub.execute_input": "2024-10-24T14:04:40.707313Z",
     "iopub.status.busy": "2024-10-24T14:04:40.706845Z",
     "iopub.status.idle": "2024-10-24T14:04:40.714429Z",
     "shell.execute_reply": "2024-10-24T14:04:40.713307Z"
    },
    "papermill": {
     "duration": 0.041382,
     "end_time": "2024-10-24T14:04:40.716919",
     "exception": false,
     "start_time": "2024-10-24T14:04:40.675537",
     "status": "completed"
    },
    "tags": []
   },
   "outputs": [
    {
     "data": {
      "text/plain": [
       "(4009, 12)"
      ]
     },
     "execution_count": 5,
     "metadata": {},
     "output_type": "execute_result"
    }
   ],
   "source": [
    "df.shape"
   ]
  },
  {
   "cell_type": "code",
   "execution_count": 6,
   "id": "df7741e3",
   "metadata": {
    "execution": {
     "iopub.execute_input": "2024-10-24T14:04:40.774962Z",
     "iopub.status.busy": "2024-10-24T14:04:40.774048Z",
     "iopub.status.idle": "2024-10-24T14:04:40.790692Z",
     "shell.execute_reply": "2024-10-24T14:04:40.789524Z"
    },
    "papermill": {
     "duration": 0.04821,
     "end_time": "2024-10-24T14:04:40.793466",
     "exception": false,
     "start_time": "2024-10-24T14:04:40.745256",
     "status": "completed"
    },
    "tags": []
   },
   "outputs": [
    {
     "data": {
      "text/plain": [
       "0"
      ]
     },
     "execution_count": 6,
     "metadata": {},
     "output_type": "execute_result"
    }
   ],
   "source": [
    "df.duplicated().sum()"
   ]
  },
  {
   "cell_type": "code",
   "execution_count": 7,
   "id": "ab0ae480",
   "metadata": {
    "execution": {
     "iopub.execute_input": "2024-10-24T14:04:40.850975Z",
     "iopub.status.busy": "2024-10-24T14:04:40.850554Z",
     "iopub.status.idle": "2024-10-24T14:04:40.865792Z",
     "shell.execute_reply": "2024-10-24T14:04:40.864684Z"
    },
    "papermill": {
     "duration": 0.047051,
     "end_time": "2024-10-24T14:04:40.868392",
     "exception": false,
     "start_time": "2024-10-24T14:04:40.821341",
     "status": "completed"
    },
    "tags": []
   },
   "outputs": [
    {
     "data": {
      "text/plain": [
       "brand             0\n",
       "model             0\n",
       "model_year        0\n",
       "milage            0\n",
       "fuel_type       170\n",
       "engine            0\n",
       "transmission      0\n",
       "ext_col           0\n",
       "int_col           0\n",
       "accident        113\n",
       "clean_title     596\n",
       "price             0\n",
       "dtype: int64"
      ]
     },
     "execution_count": 7,
     "metadata": {},
     "output_type": "execute_result"
    }
   ],
   "source": [
    "df.isna().sum()"
   ]
  },
  {
   "cell_type": "code",
   "execution_count": 8,
   "id": "bc325637",
   "metadata": {
    "execution": {
     "iopub.execute_input": "2024-10-24T14:04:40.927033Z",
     "iopub.status.busy": "2024-10-24T14:04:40.926559Z",
     "iopub.status.idle": "2024-10-24T14:04:40.937637Z",
     "shell.execute_reply": "2024-10-24T14:04:40.936500Z"
    },
    "papermill": {
     "duration": 0.042812,
     "end_time": "2024-10-24T14:04:40.940194",
     "exception": false,
     "start_time": "2024-10-24T14:04:40.897382",
     "status": "completed"
    },
    "tags": []
   },
   "outputs": [
    {
     "data": {
      "text/plain": [
       "fuel_type\n",
       "Gasoline          3309\n",
       "Hybrid             194\n",
       "E85 Flex Fuel      139\n",
       "Diesel             116\n",
       "–                   45\n",
       "Plug-In Hybrid      34\n",
       "not supported        2\n",
       "Name: count, dtype: int64"
      ]
     },
     "execution_count": 8,
     "metadata": {},
     "output_type": "execute_result"
    }
   ],
   "source": [
    "df['fuel_type'].value_counts()"
   ]
  },
  {
   "cell_type": "code",
   "execution_count": 9,
   "id": "2528441e",
   "metadata": {
    "execution": {
     "iopub.execute_input": "2024-10-24T14:04:40.999017Z",
     "iopub.status.busy": "2024-10-24T14:04:40.997670Z",
     "iopub.status.idle": "2024-10-24T14:04:41.009652Z",
     "shell.execute_reply": "2024-10-24T14:04:41.008487Z"
    },
    "papermill": {
     "duration": 0.044005,
     "end_time": "2024-10-24T14:04:41.012332",
     "exception": false,
     "start_time": "2024-10-24T14:04:40.968327",
     "status": "completed"
    },
    "tags": []
   },
   "outputs": [],
   "source": [
    "df['fuel_type'].fillna('not supported',inplace=True)\n",
    "df['fuel_type'].replace({\"–\",\"not supported\"}, inplace= True)"
   ]
  },
  {
   "cell_type": "code",
   "execution_count": 10,
   "id": "2406d2f9",
   "metadata": {
    "execution": {
     "iopub.execute_input": "2024-10-24T14:04:41.070103Z",
     "iopub.status.busy": "2024-10-24T14:04:41.069613Z",
     "iopub.status.idle": "2024-10-24T14:04:41.079916Z",
     "shell.execute_reply": "2024-10-24T14:04:41.078804Z"
    },
    "papermill": {
     "duration": 0.042182,
     "end_time": "2024-10-24T14:04:41.082336",
     "exception": false,
     "start_time": "2024-10-24T14:04:41.040154",
     "status": "completed"
    },
    "tags": []
   },
   "outputs": [
    {
     "data": {
      "text/plain": [
       "clean_title\n",
       "Yes    3413\n",
       "Name: count, dtype: int64"
      ]
     },
     "execution_count": 10,
     "metadata": {},
     "output_type": "execute_result"
    }
   ],
   "source": [
    "df['clean_title'].value_counts()"
   ]
  },
  {
   "cell_type": "code",
   "execution_count": 11,
   "id": "821a0984",
   "metadata": {
    "execution": {
     "iopub.execute_input": "2024-10-24T14:04:41.140905Z",
     "iopub.status.busy": "2024-10-24T14:04:41.140456Z",
     "iopub.status.idle": "2024-10-24T14:04:41.152512Z",
     "shell.execute_reply": "2024-10-24T14:04:41.151290Z"
    },
    "papermill": {
     "duration": 0.044372,
     "end_time": "2024-10-24T14:04:41.155052",
     "exception": false,
     "start_time": "2024-10-24T14:04:41.110680",
     "status": "completed"
    },
    "tags": []
   },
   "outputs": [
    {
     "data": {
      "text/plain": [
       "clean_title\n",
       "Yes    3413\n",
       "no      596\n",
       "Name: count, dtype: int64"
      ]
     },
     "execution_count": 11,
     "metadata": {},
     "output_type": "execute_result"
    }
   ],
   "source": [
    "df['clean_title'].fillna('no',inplace=True)\n",
    "df['clean_title'].value_counts()"
   ]
  },
  {
   "cell_type": "code",
   "execution_count": 12,
   "id": "8a24f7e3",
   "metadata": {
    "execution": {
     "iopub.execute_input": "2024-10-24T14:04:41.214065Z",
     "iopub.status.busy": "2024-10-24T14:04:41.213635Z",
     "iopub.status.idle": "2024-10-24T14:04:41.223661Z",
     "shell.execute_reply": "2024-10-24T14:04:41.222490Z"
    },
    "papermill": {
     "duration": 0.042146,
     "end_time": "2024-10-24T14:04:41.226076",
     "exception": false,
     "start_time": "2024-10-24T14:04:41.183930",
     "status": "completed"
    },
    "tags": []
   },
   "outputs": [
    {
     "data": {
      "text/plain": [
       "accident\n",
       "None reported                             2910\n",
       "At least 1 accident or damage reported     986\n",
       "Name: count, dtype: int64"
      ]
     },
     "execution_count": 12,
     "metadata": {},
     "output_type": "execute_result"
    }
   ],
   "source": [
    "df['accident'].value_counts()"
   ]
  },
  {
   "cell_type": "code",
   "execution_count": 13,
   "id": "99634469",
   "metadata": {
    "execution": {
     "iopub.execute_input": "2024-10-24T14:04:41.285620Z",
     "iopub.status.busy": "2024-10-24T14:04:41.285166Z",
     "iopub.status.idle": "2024-10-24T14:04:41.296958Z",
     "shell.execute_reply": "2024-10-24T14:04:41.295808Z"
    },
    "papermill": {
     "duration": 0.044853,
     "end_time": "2024-10-24T14:04:41.299560",
     "exception": false,
     "start_time": "2024-10-24T14:04:41.254707",
     "status": "completed"
    },
    "tags": []
   },
   "outputs": [
    {
     "data": {
      "text/plain": [
       "accident\n",
       "None reported                             3023\n",
       "At least 1 accident or damage reported     986\n",
       "Name: count, dtype: int64"
      ]
     },
     "execution_count": 13,
     "metadata": {},
     "output_type": "execute_result"
    }
   ],
   "source": [
    "df['accident'].fillna('None reported',inplace=True)\n",
    "df['accident'].value_counts()"
   ]
  },
  {
   "cell_type": "code",
   "execution_count": 14,
   "id": "63afc91a",
   "metadata": {
    "execution": {
     "iopub.execute_input": "2024-10-24T14:04:41.360129Z",
     "iopub.status.busy": "2024-10-24T14:04:41.359075Z",
     "iopub.status.idle": "2024-10-24T14:04:41.381856Z",
     "shell.execute_reply": "2024-10-24T14:04:41.380823Z"
    },
    "papermill": {
     "duration": 0.056167,
     "end_time": "2024-10-24T14:04:41.384491",
     "exception": false,
     "start_time": "2024-10-24T14:04:41.328324",
     "status": "completed"
    },
    "tags": []
   },
   "outputs": [
    {
     "data": {
      "text/plain": [
       "0       51000.0\n",
       "1       34742.0\n",
       "2       22372.0\n",
       "3       88900.0\n",
       "4        9835.0\n",
       "         ...   \n",
       "4004      714.0\n",
       "4005    10900.0\n",
       "4006     2116.0\n",
       "4007    33000.0\n",
       "4008    43000.0\n",
       "Name: milage, Length: 4009, dtype: float64"
      ]
     },
     "execution_count": 14,
     "metadata": {},
     "output_type": "execute_result"
    }
   ],
   "source": [
    "df[\"milage\"] = df[\"milage\"].astype(str)\n",
    "df[\"milage\"] = df[\"milage\"].str.replace(\" mi.\",\"\")\n",
    "df[\"milage\"] = df[\"milage\"].str.replace(\",\",\"\")\n",
    "df[\"milage\"] = df[\"milage\"].astype(float)\n",
    "df[\"milage\"]"
   ]
  },
  {
   "cell_type": "code",
   "execution_count": 15,
   "id": "11f0c702",
   "metadata": {
    "execution": {
     "iopub.execute_input": "2024-10-24T14:04:41.445675Z",
     "iopub.status.busy": "2024-10-24T14:04:41.445176Z",
     "iopub.status.idle": "2024-10-24T14:04:41.465053Z",
     "shell.execute_reply": "2024-10-24T14:04:41.463739Z"
    },
    "papermill": {
     "duration": 0.053465,
     "end_time": "2024-10-24T14:04:41.467819",
     "exception": false,
     "start_time": "2024-10-24T14:04:41.414354",
     "status": "completed"
    },
    "tags": []
   },
   "outputs": [
    {
     "data": {
      "text/plain": [
       "0        10300.0\n",
       "1        38005.0\n",
       "2        54598.0\n",
       "3        15500.0\n",
       "4        34999.0\n",
       "          ...   \n",
       "4004    349950.0\n",
       "4005     53900.0\n",
       "4006     90998.0\n",
       "4007     62999.0\n",
       "4008     40000.0\n",
       "Name: price, Length: 4009, dtype: float64"
      ]
     },
     "execution_count": 15,
     "metadata": {},
     "output_type": "execute_result"
    }
   ],
   "source": [
    "df['price']=df['price'].astype(str)\n",
    "df['price']=df['price'].str.replace(\"$\",\"\")\n",
    "df[\"price\"]=df[\"price\"].str.replace(\",\",\"\")\n",
    "df[\"price\"]=df[\"price\"].astype(float)\n",
    "df['price']"
   ]
  },
  {
   "cell_type": "code",
   "execution_count": 16,
   "id": "63b5a4d6",
   "metadata": {
    "execution": {
     "iopub.execute_input": "2024-10-24T14:04:41.527844Z",
     "iopub.status.busy": "2024-10-24T14:04:41.526915Z",
     "iopub.status.idle": "2024-10-24T14:04:41.546304Z",
     "shell.execute_reply": "2024-10-24T14:04:41.545084Z"
    },
    "papermill": {
     "duration": 0.05218,
     "end_time": "2024-10-24T14:04:41.548906",
     "exception": false,
     "start_time": "2024-10-24T14:04:41.496726",
     "status": "completed"
    },
    "tags": []
   },
   "outputs": [
    {
     "data": {
      "text/html": [
       "<div>\n",
       "<style scoped>\n",
       "    .dataframe tbody tr th:only-of-type {\n",
       "        vertical-align: middle;\n",
       "    }\n",
       "\n",
       "    .dataframe tbody tr th {\n",
       "        vertical-align: top;\n",
       "    }\n",
       "\n",
       "    .dataframe thead th {\n",
       "        text-align: right;\n",
       "    }\n",
       "</style>\n",
       "<table border=\"1\" class=\"dataframe\">\n",
       "  <thead>\n",
       "    <tr style=\"text-align: right;\">\n",
       "      <th></th>\n",
       "      <th>brand</th>\n",
       "      <th>model</th>\n",
       "      <th>model_year</th>\n",
       "      <th>milage</th>\n",
       "      <th>fuel_type</th>\n",
       "      <th>engine</th>\n",
       "      <th>transmission</th>\n",
       "      <th>ext_col</th>\n",
       "      <th>int_col</th>\n",
       "      <th>accident</th>\n",
       "      <th>clean_title</th>\n",
       "      <th>price</th>\n",
       "    </tr>\n",
       "  </thead>\n",
       "  <tbody>\n",
       "    <tr>\n",
       "      <th>0</th>\n",
       "      <td>Ford</td>\n",
       "      <td>Utility Police Interceptor Base</td>\n",
       "      <td>2013</td>\n",
       "      <td>51000.0</td>\n",
       "      <td>E85 Flex Fuel</td>\n",
       "      <td>300.0HP 3.7L V6 Cylinder Engine Flex Fuel Capa...</td>\n",
       "      <td>6-Speed A/T</td>\n",
       "      <td>Black</td>\n",
       "      <td>Black</td>\n",
       "      <td>At least 1 accident or damage reported</td>\n",
       "      <td>Yes</td>\n",
       "      <td>10300.0</td>\n",
       "    </tr>\n",
       "    <tr>\n",
       "      <th>1</th>\n",
       "      <td>Hyundai</td>\n",
       "      <td>Palisade SEL</td>\n",
       "      <td>2021</td>\n",
       "      <td>34742.0</td>\n",
       "      <td>Gasoline</td>\n",
       "      <td>3.8L V6 24V GDI DOHC</td>\n",
       "      <td>8-Speed Automatic</td>\n",
       "      <td>Moonlight Cloud</td>\n",
       "      <td>Gray</td>\n",
       "      <td>At least 1 accident or damage reported</td>\n",
       "      <td>Yes</td>\n",
       "      <td>38005.0</td>\n",
       "    </tr>\n",
       "    <tr>\n",
       "      <th>2</th>\n",
       "      <td>Lexus</td>\n",
       "      <td>RX 350 RX 350</td>\n",
       "      <td>2022</td>\n",
       "      <td>22372.0</td>\n",
       "      <td>Gasoline</td>\n",
       "      <td>3.5 Liter DOHC</td>\n",
       "      <td>Automatic</td>\n",
       "      <td>Blue</td>\n",
       "      <td>Black</td>\n",
       "      <td>None reported</td>\n",
       "      <td>no</td>\n",
       "      <td>54598.0</td>\n",
       "    </tr>\n",
       "    <tr>\n",
       "      <th>3</th>\n",
       "      <td>INFINITI</td>\n",
       "      <td>Q50 Hybrid Sport</td>\n",
       "      <td>2015</td>\n",
       "      <td>88900.0</td>\n",
       "      <td>Hybrid</td>\n",
       "      <td>354.0HP 3.5L V6 Cylinder Engine Gas/Electric H...</td>\n",
       "      <td>7-Speed A/T</td>\n",
       "      <td>Black</td>\n",
       "      <td>Black</td>\n",
       "      <td>None reported</td>\n",
       "      <td>Yes</td>\n",
       "      <td>15500.0</td>\n",
       "    </tr>\n",
       "    <tr>\n",
       "      <th>4</th>\n",
       "      <td>Audi</td>\n",
       "      <td>Q3 45 S line Premium Plus</td>\n",
       "      <td>2021</td>\n",
       "      <td>9835.0</td>\n",
       "      <td>Gasoline</td>\n",
       "      <td>2.0L I4 16V GDI DOHC Turbo</td>\n",
       "      <td>8-Speed Automatic</td>\n",
       "      <td>Glacier White Metallic</td>\n",
       "      <td>Black</td>\n",
       "      <td>None reported</td>\n",
       "      <td>no</td>\n",
       "      <td>34999.0</td>\n",
       "    </tr>\n",
       "  </tbody>\n",
       "</table>\n",
       "</div>"
      ],
      "text/plain": [
       "      brand                            model  model_year   milage  \\\n",
       "0      Ford  Utility Police Interceptor Base        2013  51000.0   \n",
       "1   Hyundai                     Palisade SEL        2021  34742.0   \n",
       "2     Lexus                    RX 350 RX 350        2022  22372.0   \n",
       "3  INFINITI                 Q50 Hybrid Sport        2015  88900.0   \n",
       "4      Audi        Q3 45 S line Premium Plus        2021   9835.0   \n",
       "\n",
       "       fuel_type                                             engine  \\\n",
       "0  E85 Flex Fuel  300.0HP 3.7L V6 Cylinder Engine Flex Fuel Capa...   \n",
       "1       Gasoline                               3.8L V6 24V GDI DOHC   \n",
       "2       Gasoline                                     3.5 Liter DOHC   \n",
       "3         Hybrid  354.0HP 3.5L V6 Cylinder Engine Gas/Electric H...   \n",
       "4       Gasoline                         2.0L I4 16V GDI DOHC Turbo   \n",
       "\n",
       "        transmission                 ext_col int_col  \\\n",
       "0        6-Speed A/T                   Black   Black   \n",
       "1  8-Speed Automatic         Moonlight Cloud    Gray   \n",
       "2          Automatic                    Blue   Black   \n",
       "3        7-Speed A/T                   Black   Black   \n",
       "4  8-Speed Automatic  Glacier White Metallic   Black   \n",
       "\n",
       "                                 accident clean_title    price  \n",
       "0  At least 1 accident or damage reported         Yes  10300.0  \n",
       "1  At least 1 accident or damage reported         Yes  38005.0  \n",
       "2                           None reported          no  54598.0  \n",
       "3                           None reported         Yes  15500.0  \n",
       "4                           None reported          no  34999.0  "
      ]
     },
     "execution_count": 16,
     "metadata": {},
     "output_type": "execute_result"
    }
   ],
   "source": [
    "df.head()"
   ]
  },
  {
   "cell_type": "code",
   "execution_count": 17,
   "id": "eadcc2cd",
   "metadata": {
    "execution": {
     "iopub.execute_input": "2024-10-24T14:04:41.609502Z",
     "iopub.status.busy": "2024-10-24T14:04:41.608963Z",
     "iopub.status.idle": "2024-10-24T14:04:41.627842Z",
     "shell.execute_reply": "2024-10-24T14:04:41.626704Z"
    },
    "papermill": {
     "duration": 0.052325,
     "end_time": "2024-10-24T14:04:41.630499",
     "exception": false,
     "start_time": "2024-10-24T14:04:41.578174",
     "status": "completed"
    },
    "tags": []
   },
   "outputs": [
    {
     "name": "stdout",
     "output_type": "stream",
     "text": [
      "<class 'pandas.core.frame.DataFrame'>\n",
      "RangeIndex: 4009 entries, 0 to 4008\n",
      "Data columns (total 12 columns):\n",
      " #   Column        Non-Null Count  Dtype  \n",
      "---  ------        --------------  -----  \n",
      " 0   brand         4009 non-null   object \n",
      " 1   model         4009 non-null   object \n",
      " 2   model_year    4009 non-null   int64  \n",
      " 3   milage        4009 non-null   float64\n",
      " 4   fuel_type     4009 non-null   object \n",
      " 5   engine        4009 non-null   object \n",
      " 6   transmission  4009 non-null   object \n",
      " 7   ext_col       4009 non-null   object \n",
      " 8   int_col       4009 non-null   object \n",
      " 9   accident      4009 non-null   object \n",
      " 10  clean_title   4009 non-null   object \n",
      " 11  price         4009 non-null   float64\n",
      "dtypes: float64(2), int64(1), object(9)\n",
      "memory usage: 376.0+ KB\n"
     ]
    }
   ],
   "source": [
    "df.info()"
   ]
  },
  {
   "cell_type": "code",
   "execution_count": 18,
   "id": "e2bd0ea7",
   "metadata": {
    "execution": {
     "iopub.execute_input": "2024-10-24T14:04:41.692354Z",
     "iopub.status.busy": "2024-10-24T14:04:41.691871Z",
     "iopub.status.idle": "2024-10-24T14:04:41.699343Z",
     "shell.execute_reply": "2024-10-24T14:04:41.698196Z"
    },
    "papermill": {
     "duration": 0.041026,
     "end_time": "2024-10-24T14:04:41.701748",
     "exception": false,
     "start_time": "2024-10-24T14:04:41.660722",
     "status": "completed"
    },
    "tags": []
   },
   "outputs": [],
   "source": [
    "import datetime\n",
    "cur_data = datetime.datetime.now()\n",
    "df['Age'] = cur_data.year - df['model_year']"
   ]
  },
  {
   "cell_type": "code",
   "execution_count": 19,
   "id": "9a1fc4ec",
   "metadata": {
    "execution": {
     "iopub.execute_input": "2024-10-24T14:04:41.763950Z",
     "iopub.status.busy": "2024-10-24T14:04:41.762838Z",
     "iopub.status.idle": "2024-10-24T14:04:41.774977Z",
     "shell.execute_reply": "2024-10-24T14:04:41.773790Z"
    },
    "papermill": {
     "duration": 0.046149,
     "end_time": "2024-10-24T14:04:41.777530",
     "exception": false,
     "start_time": "2024-10-24T14:04:41.731381",
     "status": "completed"
    },
    "tags": []
   },
   "outputs": [
    {
     "data": {
      "text/plain": [
       "Age\n",
       "2     354\n",
       "3     350\n",
       "4     322\n",
       "6     315\n",
       "5     297\n",
       "8     268\n",
       "7     259\n",
       "9     228\n",
       "1     226\n",
       "10    181\n",
       "11    158\n",
       "12    141\n",
       "13    124\n",
       "16    113\n",
       "14    100\n",
       "17     98\n",
       "19     72\n",
       "15     72\n",
       "18     66\n",
       "20     60\n",
       "21     49\n",
       "23     34\n",
       "22     32\n",
       "24     17\n",
       "25     15\n",
       "26     11\n",
       "27      9\n",
       "31      9\n",
       "28      8\n",
       "30      7\n",
       "0       6\n",
       "29      6\n",
       "50      1\n",
       "32      1\n",
       "Name: count, dtype: int64"
      ]
     },
     "execution_count": 19,
     "metadata": {},
     "output_type": "execute_result"
    }
   ],
   "source": [
    "df['Age'].value_counts()"
   ]
  },
  {
   "cell_type": "code",
   "execution_count": 20,
   "id": "98fa7394",
   "metadata": {
    "execution": {
     "iopub.execute_input": "2024-10-24T14:04:41.840023Z",
     "iopub.status.busy": "2024-10-24T14:04:41.838741Z",
     "iopub.status.idle": "2024-10-24T14:04:41.850002Z",
     "shell.execute_reply": "2024-10-24T14:04:41.848834Z"
    },
    "papermill": {
     "duration": 0.045139,
     "end_time": "2024-10-24T14:04:41.852874",
     "exception": false,
     "start_time": "2024-10-24T14:04:41.807735",
     "status": "completed"
    },
    "tags": []
   },
   "outputs": [],
   "source": [
    "df.drop(columns='model_year', axis=1 , inplace=True)"
   ]
  },
  {
   "cell_type": "code",
   "execution_count": 21,
   "id": "c3bab72d",
   "metadata": {
    "execution": {
     "iopub.execute_input": "2024-10-24T14:04:41.914149Z",
     "iopub.status.busy": "2024-10-24T14:04:41.913693Z",
     "iopub.status.idle": "2024-10-24T14:04:41.934484Z",
     "shell.execute_reply": "2024-10-24T14:04:41.933307Z"
    },
    "papermill": {
     "duration": 0.054529,
     "end_time": "2024-10-24T14:04:41.937184",
     "exception": false,
     "start_time": "2024-10-24T14:04:41.882655",
     "status": "completed"
    },
    "tags": []
   },
   "outputs": [
    {
     "data": {
      "text/html": [
       "<div>\n",
       "<style scoped>\n",
       "    .dataframe tbody tr th:only-of-type {\n",
       "        vertical-align: middle;\n",
       "    }\n",
       "\n",
       "    .dataframe tbody tr th {\n",
       "        vertical-align: top;\n",
       "    }\n",
       "\n",
       "    .dataframe thead th {\n",
       "        text-align: right;\n",
       "    }\n",
       "</style>\n",
       "<table border=\"1\" class=\"dataframe\">\n",
       "  <thead>\n",
       "    <tr style=\"text-align: right;\">\n",
       "      <th></th>\n",
       "      <th>brand</th>\n",
       "      <th>model</th>\n",
       "      <th>milage</th>\n",
       "      <th>fuel_type</th>\n",
       "      <th>engine</th>\n",
       "      <th>transmission</th>\n",
       "      <th>ext_col</th>\n",
       "      <th>int_col</th>\n",
       "      <th>accident</th>\n",
       "      <th>clean_title</th>\n",
       "      <th>price</th>\n",
       "      <th>Age</th>\n",
       "    </tr>\n",
       "  </thead>\n",
       "  <tbody>\n",
       "    <tr>\n",
       "      <th>0</th>\n",
       "      <td>Ford</td>\n",
       "      <td>Utility Police Interceptor Base</td>\n",
       "      <td>51000.0</td>\n",
       "      <td>E85 Flex Fuel</td>\n",
       "      <td>300.0HP 3.7L V6 Cylinder Engine Flex Fuel Capa...</td>\n",
       "      <td>6-Speed A/T</td>\n",
       "      <td>Black</td>\n",
       "      <td>Black</td>\n",
       "      <td>At least 1 accident or damage reported</td>\n",
       "      <td>Yes</td>\n",
       "      <td>10300.0</td>\n",
       "      <td>11</td>\n",
       "    </tr>\n",
       "    <tr>\n",
       "      <th>1</th>\n",
       "      <td>Hyundai</td>\n",
       "      <td>Palisade SEL</td>\n",
       "      <td>34742.0</td>\n",
       "      <td>Gasoline</td>\n",
       "      <td>3.8L V6 24V GDI DOHC</td>\n",
       "      <td>8-Speed Automatic</td>\n",
       "      <td>Moonlight Cloud</td>\n",
       "      <td>Gray</td>\n",
       "      <td>At least 1 accident or damage reported</td>\n",
       "      <td>Yes</td>\n",
       "      <td>38005.0</td>\n",
       "      <td>3</td>\n",
       "    </tr>\n",
       "    <tr>\n",
       "      <th>2</th>\n",
       "      <td>Lexus</td>\n",
       "      <td>RX 350 RX 350</td>\n",
       "      <td>22372.0</td>\n",
       "      <td>Gasoline</td>\n",
       "      <td>3.5 Liter DOHC</td>\n",
       "      <td>Automatic</td>\n",
       "      <td>Blue</td>\n",
       "      <td>Black</td>\n",
       "      <td>None reported</td>\n",
       "      <td>no</td>\n",
       "      <td>54598.0</td>\n",
       "      <td>2</td>\n",
       "    </tr>\n",
       "    <tr>\n",
       "      <th>3</th>\n",
       "      <td>INFINITI</td>\n",
       "      <td>Q50 Hybrid Sport</td>\n",
       "      <td>88900.0</td>\n",
       "      <td>Hybrid</td>\n",
       "      <td>354.0HP 3.5L V6 Cylinder Engine Gas/Electric H...</td>\n",
       "      <td>7-Speed A/T</td>\n",
       "      <td>Black</td>\n",
       "      <td>Black</td>\n",
       "      <td>None reported</td>\n",
       "      <td>Yes</td>\n",
       "      <td>15500.0</td>\n",
       "      <td>9</td>\n",
       "    </tr>\n",
       "    <tr>\n",
       "      <th>4</th>\n",
       "      <td>Audi</td>\n",
       "      <td>Q3 45 S line Premium Plus</td>\n",
       "      <td>9835.0</td>\n",
       "      <td>Gasoline</td>\n",
       "      <td>2.0L I4 16V GDI DOHC Turbo</td>\n",
       "      <td>8-Speed Automatic</td>\n",
       "      <td>Glacier White Metallic</td>\n",
       "      <td>Black</td>\n",
       "      <td>None reported</td>\n",
       "      <td>no</td>\n",
       "      <td>34999.0</td>\n",
       "      <td>3</td>\n",
       "    </tr>\n",
       "  </tbody>\n",
       "</table>\n",
       "</div>"
      ],
      "text/plain": [
       "      brand                            model   milage      fuel_type  \\\n",
       "0      Ford  Utility Police Interceptor Base  51000.0  E85 Flex Fuel   \n",
       "1   Hyundai                     Palisade SEL  34742.0       Gasoline   \n",
       "2     Lexus                    RX 350 RX 350  22372.0       Gasoline   \n",
       "3  INFINITI                 Q50 Hybrid Sport  88900.0         Hybrid   \n",
       "4      Audi        Q3 45 S line Premium Plus   9835.0       Gasoline   \n",
       "\n",
       "                                              engine       transmission  \\\n",
       "0  300.0HP 3.7L V6 Cylinder Engine Flex Fuel Capa...        6-Speed A/T   \n",
       "1                               3.8L V6 24V GDI DOHC  8-Speed Automatic   \n",
       "2                                     3.5 Liter DOHC          Automatic   \n",
       "3  354.0HP 3.5L V6 Cylinder Engine Gas/Electric H...        7-Speed A/T   \n",
       "4                         2.0L I4 16V GDI DOHC Turbo  8-Speed Automatic   \n",
       "\n",
       "                  ext_col int_col                                accident  \\\n",
       "0                   Black   Black  At least 1 accident or damage reported   \n",
       "1         Moonlight Cloud    Gray  At least 1 accident or damage reported   \n",
       "2                    Blue   Black                           None reported   \n",
       "3                   Black   Black                           None reported   \n",
       "4  Glacier White Metallic   Black                           None reported   \n",
       "\n",
       "  clean_title    price  Age  \n",
       "0         Yes  10300.0   11  \n",
       "1         Yes  38005.0    3  \n",
       "2          no  54598.0    2  \n",
       "3         Yes  15500.0    9  \n",
       "4          no  34999.0    3  "
      ]
     },
     "execution_count": 21,
     "metadata": {},
     "output_type": "execute_result"
    }
   ],
   "source": [
    "df.head()"
   ]
  },
  {
   "cell_type": "code",
   "execution_count": 22,
   "id": "ba096333",
   "metadata": {
    "execution": {
     "iopub.execute_input": "2024-10-24T14:04:41.999146Z",
     "iopub.status.busy": "2024-10-24T14:04:41.998731Z",
     "iopub.status.idle": "2024-10-24T14:04:46.294960Z",
     "shell.execute_reply": "2024-10-24T14:04:46.293895Z"
    },
    "papermill": {
     "duration": 4.331118,
     "end_time": "2024-10-24T14:04:46.298293",
     "exception": false,
     "start_time": "2024-10-24T14:04:41.967175",
     "status": "completed"
    },
    "tags": []
   },
   "outputs": [
    {
     "data": {
      "image/png": "[encoded data removed]",
      "text/plain": [
       "<Figure size 750x750 with 12 Axes>"
      ]
     },
     "metadata": {},
     "output_type": "display_data"
    }
   ],
   "source": [
    "sns.pairplot(df)\n",
    "plt.show()"
   ]
  },
  {
   "cell_type": "code",
   "execution_count": 23,
   "id": "fb32c503",
   "metadata": {
    "execution": {
     "iopub.execute_input": "2024-10-24T14:04:46.363673Z",
     "iopub.status.busy": "2024-10-24T14:04:46.363262Z",
     "iopub.status.idle": "2024-10-24T14:04:46.369801Z",
     "shell.execute_reply": "2024-10-24T14:04:46.368749Z"
    },
    "papermill": {
     "duration": 0.041853,
     "end_time": "2024-10-24T14:04:46.372206",
     "exception": false,
     "start_time": "2024-10-24T14:04:46.330353",
     "status": "completed"
    },
    "tags": []
   },
   "outputs": [],
   "source": [
    "df['price'] = np.log10(df['price'])"
   ]
  },
  {
   "cell_type": "code",
   "execution_count": 24,
   "id": "df0088c7",
   "metadata": {
    "execution": {
     "iopub.execute_input": "2024-10-24T14:04:46.438204Z",
     "iopub.status.busy": "2024-10-24T14:04:46.437175Z",
     "iopub.status.idle": "2024-10-24T14:04:46.751171Z",
     "shell.execute_reply": "2024-10-24T14:04:46.749990Z"
    },
    "papermill": {
     "duration": 0.350292,
     "end_time": "2024-10-24T14:04:46.754071",
     "exception": false,
     "start_time": "2024-10-24T14:04:46.403779",
     "status": "completed"
    },
    "tags": []
   },
   "outputs": [
    {
     "data": {
      "image/png": "[encoded data removed]",
      "text/plain": [
       "<Figure size 640x480 with 1 Axes>"
      ]
     },
     "metadata": {},
     "output_type": "display_data"
    }
   ],
   "source": [
    "sns.histplot(df['price'])\n",
    "plt.show()"
   ]
  },
  {
   "cell_type": "code",
   "execution_count": 25,
   "id": "f52d4620",
   "metadata": {
    "execution": {
     "iopub.execute_input": "2024-10-24T14:04:46.821949Z",
     "iopub.status.busy": "2024-10-24T14:04:46.821530Z",
     "iopub.status.idle": "2024-10-24T14:04:46.833804Z",
     "shell.execute_reply": "2024-10-24T14:04:46.832687Z"
    },
    "papermill": {
     "duration": 0.048192,
     "end_time": "2024-10-24T14:04:46.836261",
     "exception": false,
     "start_time": "2024-10-24T14:04:46.788069",
     "status": "completed"
    },
    "tags": []
   },
   "outputs": [
    {
     "data": {
      "text/plain": [
       "model\n",
       "M3 Base                    30\n",
       "F-150 XLT                  24\n",
       "Corvette Base              22\n",
       "1500 Laramie               18\n",
       "Camaro 2SS                 17\n",
       "                           ..\n",
       "XE 25t                      1\n",
       "MC20 Base                   1\n",
       "911 Carrera 4 Cabriolet     1\n",
       "488 GTB Base                1\n",
       "Taycan                      1\n",
       "Name: count, Length: 1898, dtype: int64"
      ]
     },
     "execution_count": 25,
     "metadata": {},
     "output_type": "execute_result"
    }
   ],
   "source": [
    "df['model'].value_counts()"
   ]
  },
  {
   "cell_type": "code",
   "execution_count": 26,
   "id": "8770e6ba",
   "metadata": {
    "execution": {
     "iopub.execute_input": "2024-10-24T14:04:46.902749Z",
     "iopub.status.busy": "2024-10-24T14:04:46.902136Z",
     "iopub.status.idle": "2024-10-24T14:04:46.911054Z",
     "shell.execute_reply": "2024-10-24T14:04:46.909995Z"
    },
    "papermill": {
     "duration": 0.045196,
     "end_time": "2024-10-24T14:04:46.913614",
     "exception": false,
     "start_time": "2024-10-24T14:04:46.868418",
     "status": "completed"
    },
    "tags": []
   },
   "outputs": [
    {
     "data": {
      "text/plain": [
       "array(['6-Speed A/T', '8-Speed Automatic', 'Automatic', '7-Speed A/T',\n",
       "       'F', 'A/T', '8-Speed A/T', 'Transmission w/Dual Shift Mode',\n",
       "       '9-Speed Automatic', '6-Speed M/T', '10-Speed A/T', '9-Speed A/T',\n",
       "       '5-Speed A/T', '1-Speed A/T', 'Automatic CVT',\n",
       "       '7-Speed Automatic with Auto-Shift', 'CVT-F', 'M/T',\n",
       "       '6-Speed Automatic with Auto-Shift', '10-Speed Automatic',\n",
       "       'CVT Transmission', '4-Speed A/T', '6-Speed Automatic',\n",
       "       '4-Speed Automatic', '7-Speed M/T',\n",
       "       '8-Speed Automatic with Auto-Shift', '5-Speed Automatic',\n",
       "       '8-SPEED AT', '1-Speed Automatic', '5-Speed M/T', 'Manual',\n",
       "       '6-Speed Manual', 'Variable', '2', '7-Speed Manual',\n",
       "       'Automatic, 9-Spd 9G-Tronic', 'Automatic, 8-Spd',\n",
       "       'Automatic, 8-Spd Sport w/Sport & Manual Modes', '–',\n",
       "       'Auto, 6-Spd w/CmdShft', 'Transmission Overdrive Switch',\n",
       "       '7-Speed Automatic', 'Automatic, 8-Spd PDK Dual-Clutch',\n",
       "       'Automatic, 8-Spd M STEPTRONIC w/Drivelogic, Sport & Manual Modes',\n",
       "       'Automatic, 8-Spd Dual-Clutch', '6-Speed',\n",
       "       'Single-Speed Fixed Gear', 'Automatic, 10-Spd',\n",
       "       '2-Speed Automatic', '7-Speed',\n",
       "       'Automatic, 7-Spd S tronic Dual-Clutch', 'Manual, 6-Spd',\n",
       "       '6-Speed Electronically Controlled Automatic with O',\n",
       "       '6 Speed At/Mt', '8-SPEED A/T',\n",
       "       '10-Speed Automatic with Overdrive', '7-Speed DCT Automatic',\n",
       "       '9-Speed Automatic with Auto-Shift',\n",
       "       'SCHEDULED FOR OR IN PRODUCTION', '2-Speed A/T', '6 Speed Mt',\n",
       "       '8-Speed Manual'], dtype=object)"
      ]
     },
     "execution_count": 26,
     "metadata": {},
     "output_type": "execute_result"
    }
   ],
   "source": [
    "df[\"transmission\"].unique()"
   ]
  },
  {
   "cell_type": "code",
   "execution_count": 27,
   "id": "0c6f4045",
   "metadata": {
    "execution": {
     "iopub.execute_input": "2024-10-24T14:04:46.980388Z",
     "iopub.status.busy": "2024-10-24T14:04:46.979590Z",
     "iopub.status.idle": "2024-10-24T14:04:47.019767Z",
     "shell.execute_reply": "2024-10-24T14:04:47.018620Z"
    },
    "papermill": {
     "duration": 0.076561,
     "end_time": "2024-10-24T14:04:47.022361",
     "exception": false,
     "start_time": "2024-10-24T14:04:46.945800",
     "status": "completed"
    },
    "scrolled": true,
    "tags": []
   },
   "outputs": [
    {
     "data": {
      "text/plain": [
       "transmission\n",
       "Automatic                                3324\n",
       "Manual                                    372\n",
       "CVT                                       100\n",
       "9-Speed A/T                                74\n",
       "6-Speed Automatic                          73\n",
       "7-Speed Automatic with Auto-Shift          24\n",
       "1-Speed Automatic                          14\n",
       "Other                                      12\n",
       "Transmission Overdrive Switch               7\n",
       "F                                           2\n",
       "Manual, 6-Spd                               2\n",
       "Auto, 6-Spd w/CmdShft                       1\n",
       "6-Speed                                     1\n",
       "Automatic, 10-Spd                           1\n",
       "7-Speed                                     1\n",
       "Automatic, 7-Spd S tronic Dual-Clutch       1\n",
       "Name: count, dtype: int64"
      ]
     },
     "execution_count": 27,
     "metadata": {},
     "output_type": "execute_result"
    }
   ],
   "source": [
    "transmission_mapping = {\n",
    "    '6-Speed A/T': 'Automatic',\n",
    "    '8-Speed Automatic': 'Automatic',\n",
    "    'Automatic': 'Automatic',\n",
    "    '7-Speed A/T': 'Automatic',\n",
    "    'A/T': 'Automatic',\n",
    "    '8-Speed A/T': 'Automatic',\n",
    "    'Transmission w/Dual Shift Mode': 'Automatic',\n",
    "    '9-Speed Automatic': 'Automatic',\n",
    "    '10-Speed Automatic': 'Automatic',\n",
    "    'Automatic CVT': 'CVT',\n",
    "    'CVT Transmission': 'CVT',\n",
    "    'CVT-F': 'CVT',\n",
    "    '7-Speed Automatic': 'Automatic',\n",
    "    '6-Speed M/T': 'Manual',\n",
    "    '7-Speed M/T': 'Manual',\n",
    "    '6-Speed Manual': 'Manual',\n",
    "    '5-Speed M/T': 'Manual',\n",
    "    'Manual': 'Manual',\n",
    "    '7-Speed Manual': 'Manual',\n",
    "    '8-Speed Manual': 'Manual',\n",
    "    'M/T': 'Manual',\n",
    "    '6-Speed Automatic with Auto-Shift': 'Automatic',\n",
    "    '8-Speed Automatic with Auto-Shift': 'Automatic',\n",
    "    '9-Speed Automatic with Auto-Shift': 'Automatic',\n",
    "    '5-Speed Automatic': 'Automatic',\n",
    "    '4-Speed A/T': 'Automatic',\n",
    "    '4-Speed Automatic': 'Automatic',\n",
    "    '10-Speed A/T': 'Automatic',\n",
    "    '5-Speed A/T': 'Automatic',\n",
    "    '1-Speed A/T': 'Automatic',\n",
    "    '2-Speed Automatic': 'Automatic',\n",
    "    '6-Speed Electronically Controlled Automatic with O': 'Automatic',\n",
    "    'Single-Speed Fixed Gear': 'Automatic',\n",
    "    '7-Speed DCT Automatic': 'Automatic',\n",
    "    '8-SPEED AT': 'Automatic',\n",
    "    '8-SPEED A/T': 'Automatic',\n",
    "    '10-Speed Automatic with Overdrive': 'Automatic',\n",
    "    'Automatic, 9-Spd 9G-Tronic': 'Automatic',\n",
    "    'Automatic, 8-Spd': 'Automatic',\n",
    "    'Automatic, 8-Spd Sport w/Sport & Manual Modes': 'Automatic',\n",
    "    'Automatic, 8-Spd PDK Dual-Clutch': 'Automatic',\n",
    "    'Automatic, 8-Spd M STEPTRONIC w/Drivelogic, Sport & Manual Modes': 'Automatic',\n",
    "    'Automatic, 8-Spd Dual-Clutch': 'Automatic',\n",
    "    '2-Speed A/T': 'Automatic',\n",
    "    '6 Speed At/Mt': 'Manual',\n",
    "    '6 Speed Mt': 'Manual',\n",
    "    'Variable': 'Other',\n",
    "    '2': 'Other',\n",
    "    '–': 'Other',\n",
    "    'SCHEDULED FOR OR IN PRODUCTION': 'Other'\n",
    "}\n",
    "\n",
    "\n",
    "df['transmission'] = df['transmission'].replace(transmission_mapping)\n",
    "\n",
    "df['transmission'].value_counts()"
   ]
  },
  {
   "cell_type": "code",
   "execution_count": 28,
   "id": "848ff2bc",
   "metadata": {
    "execution": {
     "iopub.execute_input": "2024-10-24T14:04:47.090385Z",
     "iopub.status.busy": "2024-10-24T14:04:47.089358Z",
     "iopub.status.idle": "2024-10-24T14:04:47.103126Z",
     "shell.execute_reply": "2024-10-24T14:04:47.101951Z"
    },
    "papermill": {
     "duration": 0.050608,
     "end_time": "2024-10-24T14:04:47.105668",
     "exception": false,
     "start_time": "2024-10-24T14:04:47.055060",
     "status": "completed"
    },
    "scrolled": true,
    "tags": []
   },
   "outputs": [
    {
     "data": {
      "text/plain": [
       "transmission\n",
       "Automatic    3437\n",
       "Manual        374\n",
       "Other         198\n",
       "Name: count, dtype: int64"
      ]
     },
     "execution_count": 28,
     "metadata": {},
     "output_type": "execute_result"
    }
   ],
   "source": [
    "def simplify_transmission(transmission):\n",
    "    if 'Automatic' in transmission:\n",
    "        return 'Automatic'\n",
    "    elif 'Manual' in transmission:\n",
    "        return 'Manual'\n",
    "    else :\n",
    "        return 'Other'\n",
    "df['transmission'] = df['transmission'].apply(simplify_transmission)\n",
    "df['transmission'].value_counts()"
   ]
  },
  {
   "cell_type": "code",
   "execution_count": 29,
   "id": "14e28bc6",
   "metadata": {
    "execution": {
     "iopub.execute_input": "2024-10-24T14:04:47.173678Z",
     "iopub.status.busy": "2024-10-24T14:04:47.172497Z",
     "iopub.status.idle": "2024-10-24T14:04:47.181253Z",
     "shell.execute_reply": "2024-10-24T14:04:47.180139Z"
    },
    "papermill": {
     "duration": 0.045238,
     "end_time": "2024-10-24T14:04:47.183611",
     "exception": false,
     "start_time": "2024-10-24T14:04:47.138373",
     "status": "completed"
    },
    "tags": []
   },
   "outputs": [
    {
     "data": {
      "text/plain": [
       "array(['300.0HP 3.7L V6 Cylinder Engine Flex Fuel Capability',\n",
       "       '3.8L V6 24V GDI DOHC', '3.5 Liter DOHC', ...,\n",
       "       '136.0HP 1.8L 4 Cylinder Engine Gasoline Fuel',\n",
       "       '270.0HP 2.0L 4 Cylinder Engine Gasoline Fuel',\n",
       "       '420.0HP 5.9L 12 Cylinder Engine Gasoline Fuel'], dtype=object)"
      ]
     },
     "execution_count": 29,
     "metadata": {},
     "output_type": "execute_result"
    }
   ],
   "source": [
    "df['engine'].unique()"
   ]
  },
  {
   "cell_type": "code",
   "execution_count": 30,
   "id": "b492d67c",
   "metadata": {
    "execution": {
     "iopub.execute_input": "2024-10-24T14:04:47.251342Z",
     "iopub.status.busy": "2024-10-24T14:04:47.250584Z",
     "iopub.status.idle": "2024-10-24T14:04:47.261570Z",
     "shell.execute_reply": "2024-10-24T14:04:47.260450Z"
    },
    "papermill": {
     "duration": 0.047608,
     "end_time": "2024-10-24T14:04:47.264060",
     "exception": false,
     "start_time": "2024-10-24T14:04:47.216452",
     "status": "completed"
    },
    "scrolled": true,
    "tags": []
   },
   "outputs": [
    {
     "data": {
      "text/plain": [
       "engine\n",
       "2.0L I4 16V GDI DOHC Turbo                               52\n",
       "355.0HP 5.3L 8 Cylinder Engine Gasoline Fuel             48\n",
       "420.0HP 6.2L 8 Cylinder Engine Gasoline Fuel             47\n",
       "–                                                        45\n",
       "300.0HP 3.0L Straight 6 Cylinder Engine Gasoline Fuel    44\n",
       "                                                         ..\n",
       "323.0HP 6.0L 8 Cylinder Engine Gasoline Fuel              1\n",
       "405.0HP 4.2L 8 Cylinder Engine Gasoline Fuel              1\n",
       "353.0HP 6.0L 8 Cylinder Engine Gasoline Fuel              1\n",
       "275.0HP 4.8L 8 Cylinder Engine Gasoline Fuel              1\n",
       "420.0HP 5.9L 12 Cylinder Engine Gasoline Fuel             1\n",
       "Name: count, Length: 1146, dtype: int64"
      ]
     },
     "execution_count": 30,
     "metadata": {},
     "output_type": "execute_result"
    }
   ],
   "source": [
    "df['engine'].value_counts()"
   ]
  },
  {
   "cell_type": "code",
   "execution_count": 31,
   "id": "0ead128a",
   "metadata": {
    "execution": {
     "iopub.execute_input": "2024-10-24T14:04:47.334140Z",
     "iopub.status.busy": "2024-10-24T14:04:47.333184Z",
     "iopub.status.idle": "2024-10-24T14:04:48.061305Z",
     "shell.execute_reply": "2024-10-24T14:04:48.059834Z"
    },
    "papermill": {
     "duration": 0.765578,
     "end_time": "2024-10-24T14:04:48.064308",
     "exception": false,
     "start_time": "2024-10-24T14:04:47.298730",
     "status": "completed"
    },
    "tags": []
   },
   "outputs": [],
   "source": [
    "import re\n",
    "\n",
    "def extract_engine_att(engine_str):\n",
    "    horsepower = re.search(r'(\\d+\\.\\d+)HP|\\d+\\.\\d+', engine_str)\n",
    "    displacement = re.search(r'(\\d+\\.\\d+L|\\d+\\.\\d+ Liter)', engine_str)\n",
    "    return horsepower.group(1) if horsepower else '',\\\n",
    "           displacement.group(1) if displacement else ''\n",
    "\n",
    "\n",
    "df[['Horsepower', 'Engine_Displacement']] = df['engine'].apply(extract_engine_att).apply(pd.Series)"
   ]
  },
  {
   "cell_type": "code",
   "execution_count": 32,
   "id": "d6c48d3c",
   "metadata": {
    "execution": {
     "iopub.execute_input": "2024-10-24T14:04:48.136088Z",
     "iopub.status.busy": "2024-10-24T14:04:48.135671Z",
     "iopub.status.idle": "2024-10-24T14:04:48.143843Z",
     "shell.execute_reply": "2024-10-24T14:04:48.142633Z"
    },
    "papermill": {
     "duration": 0.048659,
     "end_time": "2024-10-24T14:04:48.146346",
     "exception": false,
     "start_time": "2024-10-24T14:04:48.097687",
     "status": "completed"
    },
    "tags": []
   },
   "outputs": [],
   "source": [
    "df.drop('engine',axis=1,inplace=True)"
   ]
  },
  {
   "cell_type": "code",
   "execution_count": 33,
   "id": "a029d251",
   "metadata": {
    "execution": {
     "iopub.execute_input": "2024-10-24T14:04:48.214649Z",
     "iopub.status.busy": "2024-10-24T14:04:48.214198Z",
     "iopub.status.idle": "2024-10-24T14:04:48.234102Z",
     "shell.execute_reply": "2024-10-24T14:04:48.232914Z"
    },
    "papermill": {
     "duration": 0.056882,
     "end_time": "2024-10-24T14:04:48.236721",
     "exception": false,
     "start_time": "2024-10-24T14:04:48.179839",
     "status": "completed"
    },
    "tags": []
   },
   "outputs": [
    {
     "data": {
      "text/html": [
       "<div>\n",
       "<style scoped>\n",
       "    .dataframe tbody tr th:only-of-type {\n",
       "        vertical-align: middle;\n",
       "    }\n",
       "\n",
       "    .dataframe tbody tr th {\n",
       "        vertical-align: top;\n",
       "    }\n",
       "\n",
       "    .dataframe thead th {\n",
       "        text-align: right;\n",
       "    }\n",
       "</style>\n",
       "<table border=\"1\" class=\"dataframe\">\n",
       "  <thead>\n",
       "    <tr style=\"text-align: right;\">\n",
       "      <th></th>\n",
       "      <th>brand</th>\n",
       "      <th>model</th>\n",
       "      <th>milage</th>\n",
       "      <th>fuel_type</th>\n",
       "      <th>transmission</th>\n",
       "      <th>ext_col</th>\n",
       "      <th>int_col</th>\n",
       "      <th>accident</th>\n",
       "      <th>clean_title</th>\n",
       "      <th>price</th>\n",
       "      <th>Age</th>\n",
       "      <th>Horsepower</th>\n",
       "      <th>Engine_Displacement</th>\n",
       "    </tr>\n",
       "  </thead>\n",
       "  <tbody>\n",
       "    <tr>\n",
       "      <th>0</th>\n",
       "      <td>Ford</td>\n",
       "      <td>Utility Police Interceptor Base</td>\n",
       "      <td>51000.0</td>\n",
       "      <td>E85 Flex Fuel</td>\n",
       "      <td>Automatic</td>\n",
       "      <td>Black</td>\n",
       "      <td>Black</td>\n",
       "      <td>At least 1 accident or damage reported</td>\n",
       "      <td>Yes</td>\n",
       "      <td>4.012837</td>\n",
       "      <td>11</td>\n",
       "      <td>300.0</td>\n",
       "      <td>3.7L</td>\n",
       "    </tr>\n",
       "    <tr>\n",
       "      <th>1</th>\n",
       "      <td>Hyundai</td>\n",
       "      <td>Palisade SEL</td>\n",
       "      <td>34742.0</td>\n",
       "      <td>Gasoline</td>\n",
       "      <td>Automatic</td>\n",
       "      <td>Moonlight Cloud</td>\n",
       "      <td>Gray</td>\n",
       "      <td>At least 1 accident or damage reported</td>\n",
       "      <td>Yes</td>\n",
       "      <td>4.579841</td>\n",
       "      <td>3</td>\n",
       "      <td>None</td>\n",
       "      <td>3.8L</td>\n",
       "    </tr>\n",
       "    <tr>\n",
       "      <th>2</th>\n",
       "      <td>Lexus</td>\n",
       "      <td>RX 350 RX 350</td>\n",
       "      <td>22372.0</td>\n",
       "      <td>Gasoline</td>\n",
       "      <td>Automatic</td>\n",
       "      <td>Blue</td>\n",
       "      <td>Black</td>\n",
       "      <td>None reported</td>\n",
       "      <td>no</td>\n",
       "      <td>4.737177</td>\n",
       "      <td>2</td>\n",
       "      <td>None</td>\n",
       "      <td>3.5 Liter</td>\n",
       "    </tr>\n",
       "    <tr>\n",
       "      <th>3</th>\n",
       "      <td>INFINITI</td>\n",
       "      <td>Q50 Hybrid Sport</td>\n",
       "      <td>88900.0</td>\n",
       "      <td>Hybrid</td>\n",
       "      <td>Automatic</td>\n",
       "      <td>Black</td>\n",
       "      <td>Black</td>\n",
       "      <td>None reported</td>\n",
       "      <td>Yes</td>\n",
       "      <td>4.190332</td>\n",
       "      <td>9</td>\n",
       "      <td>354.0</td>\n",
       "      <td>3.5L</td>\n",
       "    </tr>\n",
       "    <tr>\n",
       "      <th>4</th>\n",
       "      <td>Audi</td>\n",
       "      <td>Q3 45 S line Premium Plus</td>\n",
       "      <td>9835.0</td>\n",
       "      <td>Gasoline</td>\n",
       "      <td>Automatic</td>\n",
       "      <td>Glacier White Metallic</td>\n",
       "      <td>Black</td>\n",
       "      <td>None reported</td>\n",
       "      <td>no</td>\n",
       "      <td>4.544056</td>\n",
       "      <td>3</td>\n",
       "      <td>None</td>\n",
       "      <td>2.0L</td>\n",
       "    </tr>\n",
       "  </tbody>\n",
       "</table>\n",
       "</div>"
      ],
      "text/plain": [
       "      brand                            model   milage      fuel_type  \\\n",
       "0      Ford  Utility Police Interceptor Base  51000.0  E85 Flex Fuel   \n",
       "1   Hyundai                     Palisade SEL  34742.0       Gasoline   \n",
       "2     Lexus                    RX 350 RX 350  22372.0       Gasoline   \n",
       "3  INFINITI                 Q50 Hybrid Sport  88900.0         Hybrid   \n",
       "4      Audi        Q3 45 S line Premium Plus   9835.0       Gasoline   \n",
       "\n",
       "  transmission                 ext_col int_col  \\\n",
       "0    Automatic                   Black   Black   \n",
       "1    Automatic         Moonlight Cloud    Gray   \n",
       "2    Automatic                    Blue   Black   \n",
       "3    Automatic                   Black   Black   \n",
       "4    Automatic  Glacier White Metallic   Black   \n",
       "\n",
       "                                 accident clean_title     price  Age  \\\n",
       "0  At least 1 accident or damage reported         Yes  4.012837   11   \n",
       "1  At least 1 accident or damage reported         Yes  4.579841    3   \n",
       "2                           None reported          no  4.737177    2   \n",
       "3                           None reported         Yes  4.190332    9   \n",
       "4                           None reported          no  4.544056    3   \n",
       "\n",
       "  Horsepower Engine_Displacement  \n",
       "0      300.0                3.7L  \n",
       "1       None                3.8L  \n",
       "2       None           3.5 Liter  \n",
       "3      354.0                3.5L  \n",
       "4       None                2.0L  "
      ]
     },
     "execution_count": 33,
     "metadata": {},
     "output_type": "execute_result"
    }
   ],
   "source": [
    "df.head()"
   ]
  },
  {
   "cell_type": "code",
   "execution_count": 34,
   "id": "66490faa",
   "metadata": {
    "execution": {
     "iopub.execute_input": "2024-10-24T14:04:48.308609Z",
     "iopub.status.busy": "2024-10-24T14:04:48.308100Z",
     "iopub.status.idle": "2024-10-24T14:04:48.316999Z",
     "shell.execute_reply": "2024-10-24T14:04:48.315894Z"
    },
    "papermill": {
     "duration": 0.048352,
     "end_time": "2024-10-24T14:04:48.319812",
     "exception": false,
     "start_time": "2024-10-24T14:04:48.271460",
     "status": "completed"
    },
    "tags": []
   },
   "outputs": [
    {
     "data": {
      "text/plain": [
       "707"
      ]
     },
     "execution_count": 34,
     "metadata": {},
     "output_type": "execute_result"
    }
   ],
   "source": [
    "df['Horsepower'].isna().sum()"
   ]
  },
  {
   "cell_type": "code",
   "execution_count": 35,
   "id": "d679db32",
   "metadata": {
    "execution": {
     "iopub.execute_input": "2024-10-24T14:04:48.389042Z",
     "iopub.status.busy": "2024-10-24T14:04:48.388593Z",
     "iopub.status.idle": "2024-10-24T14:04:48.396281Z",
     "shell.execute_reply": "2024-10-24T14:04:48.395023Z"
    },
    "papermill": {
     "duration": 0.045308,
     "end_time": "2024-10-24T14:04:48.398758",
     "exception": false,
     "start_time": "2024-10-24T14:04:48.353450",
     "status": "completed"
    },
    "tags": []
   },
   "outputs": [
    {
     "data": {
      "text/plain": [
       "dtype('O')"
      ]
     },
     "execution_count": 35,
     "metadata": {},
     "output_type": "execute_result"
    }
   ],
   "source": [
    "df['Horsepower'].dtype"
   ]
  },
  {
   "cell_type": "code",
   "execution_count": 36,
   "id": "ccc4c4e5",
   "metadata": {
    "execution": {
     "iopub.execute_input": "2024-10-24T14:04:48.470150Z",
     "iopub.status.busy": "2024-10-24T14:04:48.469699Z",
     "iopub.status.idle": "2024-10-24T14:04:48.478174Z",
     "shell.execute_reply": "2024-10-24T14:04:48.476984Z"
    },
    "papermill": {
     "duration": 0.04686,
     "end_time": "2024-10-24T14:04:48.480548",
     "exception": false,
     "start_time": "2024-10-24T14:04:48.433688",
     "status": "completed"
    },
    "tags": []
   },
   "outputs": [],
   "source": [
    "df['Horsepower'] = pd.to_numeric(df['Horsepower'])"
   ]
  },
  {
   "cell_type": "code",
   "execution_count": 37,
   "id": "1d8c6a7f",
   "metadata": {
    "execution": {
     "iopub.execute_input": "2024-10-24T14:04:48.609829Z",
     "iopub.status.busy": "2024-10-24T14:04:48.609402Z",
     "iopub.status.idle": "2024-10-24T14:04:48.616952Z",
     "shell.execute_reply": "2024-10-24T14:04:48.615904Z"
    },
    "papermill": {
     "duration": 0.10368,
     "end_time": "2024-10-24T14:04:48.619397",
     "exception": false,
     "start_time": "2024-10-24T14:04:48.515717",
     "status": "completed"
    },
    "tags": []
   },
   "outputs": [
    {
     "data": {
      "text/plain": [
       "dtype('float64')"
      ]
     },
     "execution_count": 37,
     "metadata": {},
     "output_type": "execute_result"
    }
   ],
   "source": [
    "df['Horsepower'].dtype"
   ]
  },
  {
   "cell_type": "code",
   "execution_count": 38,
   "id": "cd1b0ab9",
   "metadata": {
    "execution": {
     "iopub.execute_input": "2024-10-24T14:04:48.690852Z",
     "iopub.status.busy": "2024-10-24T14:04:48.690428Z",
     "iopub.status.idle": "2024-10-24T14:04:48.697137Z",
     "shell.execute_reply": "2024-10-24T14:04:48.695991Z"
    },
    "papermill": {
     "duration": 0.044717,
     "end_time": "2024-10-24T14:04:48.699643",
     "exception": false,
     "start_time": "2024-10-24T14:04:48.654926",
     "status": "completed"
    },
    "tags": []
   },
   "outputs": [],
   "source": [
    "df['Horsepower'].fillna(df['Horsepower'].mean(),inplace=True)"
   ]
  },
  {
   "cell_type": "code",
   "execution_count": 39,
   "id": "271a5b48",
   "metadata": {
    "execution": {
     "iopub.execute_input": "2024-10-24T14:04:48.770167Z",
     "iopub.status.busy": "2024-10-24T14:04:48.769111Z",
     "iopub.status.idle": "2024-10-24T14:04:48.777395Z",
     "shell.execute_reply": "2024-10-24T14:04:48.776333Z"
    },
    "papermill": {
     "duration": 0.046385,
     "end_time": "2024-10-24T14:04:48.780213",
     "exception": false,
     "start_time": "2024-10-24T14:04:48.733828",
     "status": "completed"
    },
    "tags": []
   },
   "outputs": [
    {
     "data": {
      "text/plain": [
       "0"
      ]
     },
     "execution_count": 39,
     "metadata": {},
     "output_type": "execute_result"
    }
   ],
   "source": [
    "df['Horsepower'].isna().sum()"
   ]
  },
  {
   "cell_type": "code",
   "execution_count": 40,
   "id": "c87ca811",
   "metadata": {
    "execution": {
     "iopub.execute_input": "2024-10-24T14:04:48.850674Z",
     "iopub.status.busy": "2024-10-24T14:04:48.850190Z",
     "iopub.status.idle": "2024-10-24T14:04:48.859010Z",
     "shell.execute_reply": "2024-10-24T14:04:48.857832Z"
    },
    "papermill": {
     "duration": 0.046915,
     "end_time": "2024-10-24T14:04:48.861487",
     "exception": false,
     "start_time": "2024-10-24T14:04:48.814572",
     "status": "completed"
    },
    "tags": []
   },
   "outputs": [],
   "source": [
    "df['Engine_Displacement'] = df['Engine_Displacement'].str.replace('L', '')"
   ]
  },
  {
   "cell_type": "code",
   "execution_count": 41,
   "id": "81ba7ff0",
   "metadata": {
    "execution": {
     "iopub.execute_input": "2024-10-24T14:04:48.931380Z",
     "iopub.status.busy": "2024-10-24T14:04:48.930885Z",
     "iopub.status.idle": "2024-10-24T14:04:48.940702Z",
     "shell.execute_reply": "2024-10-24T14:04:48.939315Z"
    },
    "papermill": {
     "duration": 0.047704,
     "end_time": "2024-10-24T14:04:48.943155",
     "exception": false,
     "start_time": "2024-10-24T14:04:48.895451",
     "status": "completed"
    },
    "tags": []
   },
   "outputs": [
    {
     "data": {
      "text/plain": [
       "0            3.7\n",
       "1            3.8\n",
       "2       3.5 iter\n",
       "3            3.5\n",
       "4            2.0\n",
       "          ...   \n",
       "4004         6.0\n",
       "4005         3.0\n",
       "4006            \n",
       "4007         3.5\n",
       "4008         2.0\n",
       "Name: Engine_Displacement, Length: 4009, dtype: object"
      ]
     },
     "execution_count": 41,
     "metadata": {},
     "output_type": "execute_result"
    }
   ],
   "source": [
    "df['Engine_Displacement']"
   ]
  },
  {
   "cell_type": "code",
   "execution_count": 42,
   "id": "d4a16bf6",
   "metadata": {
    "execution": {
     "iopub.execute_input": "2024-10-24T14:04:49.013784Z",
     "iopub.status.busy": "2024-10-24T14:04:49.013342Z",
     "iopub.status.idle": "2024-10-24T14:04:49.021719Z",
     "shell.execute_reply": "2024-10-24T14:04:49.020592Z"
    },
    "papermill": {
     "duration": 0.046516,
     "end_time": "2024-10-24T14:04:49.024141",
     "exception": false,
     "start_time": "2024-10-24T14:04:48.977625",
     "status": "completed"
    },
    "tags": []
   },
   "outputs": [],
   "source": [
    "df['Engine_Displacement'] = df['Engine_Displacement'].str.replace(' iter', '')"
   ]
  },
  {
   "cell_type": "code",
   "execution_count": 43,
   "id": "c688247e",
   "metadata": {
    "execution": {
     "iopub.execute_input": "2024-10-24T14:04:49.095113Z",
     "iopub.status.busy": "2024-10-24T14:04:49.094634Z",
     "iopub.status.idle": "2024-10-24T14:04:49.104085Z",
     "shell.execute_reply": "2024-10-24T14:04:49.103051Z"
    },
    "papermill": {
     "duration": 0.048319,
     "end_time": "2024-10-24T14:04:49.106595",
     "exception": false,
     "start_time": "2024-10-24T14:04:49.058276",
     "status": "completed"
    },
    "tags": []
   },
   "outputs": [
    {
     "data": {
      "text/plain": [
       "0       3.7\n",
       "1       3.8\n",
       "2       3.5\n",
       "3       3.5\n",
       "4       2.0\n",
       "       ... \n",
       "4004    6.0\n",
       "4005    3.0\n",
       "4006       \n",
       "4007    3.5\n",
       "4008    2.0\n",
       "Name: Engine_Displacement, Length: 4009, dtype: object"
      ]
     },
     "execution_count": 43,
     "metadata": {},
     "output_type": "execute_result"
    }
   ],
   "source": [
    "df['Engine_Displacement']"
   ]
  },
  {
   "cell_type": "code",
   "execution_count": 44,
   "id": "2ea5b354",
   "metadata": {
    "execution": {
     "iopub.execute_input": "2024-10-24T14:04:49.178900Z",
     "iopub.status.busy": "2024-10-24T14:04:49.178444Z",
     "iopub.status.idle": "2024-10-24T14:04:49.186097Z",
     "shell.execute_reply": "2024-10-24T14:04:49.185044Z"
    },
    "papermill": {
     "duration": 0.04616,
     "end_time": "2024-10-24T14:04:49.188654",
     "exception": false,
     "start_time": "2024-10-24T14:04:49.142494",
     "status": "completed"
    },
    "tags": []
   },
   "outputs": [
    {
     "data": {
      "text/plain": [
       "dtype('O')"
      ]
     },
     "execution_count": 44,
     "metadata": {},
     "output_type": "execute_result"
    }
   ],
   "source": [
    "df['Engine_Displacement'].dtype"
   ]
  },
  {
   "cell_type": "code",
   "execution_count": 45,
   "id": "e3279cde",
   "metadata": {
    "execution": {
     "iopub.execute_input": "2024-10-24T14:04:49.259391Z",
     "iopub.status.busy": "2024-10-24T14:04:49.258922Z",
     "iopub.status.idle": "2024-10-24T14:04:49.267902Z",
     "shell.execute_reply": "2024-10-24T14:04:49.266754Z"
    },
    "papermill": {
     "duration": 0.047295,
     "end_time": "2024-10-24T14:04:49.270439",
     "exception": false,
     "start_time": "2024-10-24T14:04:49.223144",
     "status": "completed"
    },
    "tags": []
   },
   "outputs": [],
   "source": [
    "df['Engine_Displacement'] = pd.to_numeric(df['Engine_Displacement'])"
   ]
  },
  {
   "cell_type": "code",
   "execution_count": 46,
   "id": "d0ba1efc",
   "metadata": {
    "execution": {
     "iopub.execute_input": "2024-10-24T14:04:49.342110Z",
     "iopub.status.busy": "2024-10-24T14:04:49.341690Z",
     "iopub.status.idle": "2024-10-24T14:04:49.348532Z",
     "shell.execute_reply": "2024-10-24T14:04:49.347469Z"
    },
    "papermill": {
     "duration": 0.045742,
     "end_time": "2024-10-24T14:04:49.351015",
     "exception": false,
     "start_time": "2024-10-24T14:04:49.305273",
     "status": "completed"
    },
    "tags": []
   },
   "outputs": [],
   "source": [
    "df['Engine_Displacement'].fillna(df['Engine_Displacement'].mean(), inplace = True)"
   ]
  },
  {
   "cell_type": "code",
   "execution_count": 47,
   "id": "bc9a0667",
   "metadata": {
    "execution": {
     "iopub.execute_input": "2024-10-24T14:04:49.423210Z",
     "iopub.status.busy": "2024-10-24T14:04:49.422784Z",
     "iopub.status.idle": "2024-10-24T14:04:49.431161Z",
     "shell.execute_reply": "2024-10-24T14:04:49.429928Z"
    },
    "papermill": {
     "duration": 0.047589,
     "end_time": "2024-10-24T14:04:49.433796",
     "exception": false,
     "start_time": "2024-10-24T14:04:49.386207",
     "status": "completed"
    },
    "tags": []
   },
   "outputs": [
    {
     "data": {
      "text/plain": [
       "0"
      ]
     },
     "execution_count": 47,
     "metadata": {},
     "output_type": "execute_result"
    }
   ],
   "source": [
    "df['Engine_Displacement'].isnull().sum()"
   ]
  },
  {
   "cell_type": "code",
   "execution_count": 48,
   "id": "b91dd9df",
   "metadata": {
    "execution": {
     "iopub.execute_input": "2024-10-24T14:04:49.506393Z",
     "iopub.status.busy": "2024-10-24T14:04:49.505909Z",
     "iopub.status.idle": "2024-10-24T14:04:49.514496Z",
     "shell.execute_reply": "2024-10-24T14:04:49.513052Z"
    },
    "papermill": {
     "duration": 0.047839,
     "end_time": "2024-10-24T14:04:49.517279",
     "exception": false,
     "start_time": "2024-10-24T14:04:49.469440",
     "status": "completed"
    },
    "tags": []
   },
   "outputs": [],
   "source": [
    "df.drop(\"model\",axis=1,inplace=True)"
   ]
  },
  {
   "cell_type": "code",
   "execution_count": 49,
   "id": "50b79834",
   "metadata": {
    "execution": {
     "iopub.execute_input": "2024-10-24T14:04:49.589839Z",
     "iopub.status.busy": "2024-10-24T14:04:49.589396Z",
     "iopub.status.idle": "2024-10-24T14:04:49.610048Z",
     "shell.execute_reply": "2024-10-24T14:04:49.608480Z"
    },
    "papermill": {
     "duration": 0.059698,
     "end_time": "2024-10-24T14:04:49.612686",
     "exception": false,
     "start_time": "2024-10-24T14:04:49.552988",
     "status": "completed"
    },
    "tags": []
   },
   "outputs": [
    {
     "data": {
      "text/html": [
       "<div>\n",
       "<style scoped>\n",
       "    .dataframe tbody tr th:only-of-type {\n",
       "        vertical-align: middle;\n",
       "    }\n",
       "\n",
       "    .dataframe tbody tr th {\n",
       "        vertical-align: top;\n",
       "    }\n",
       "\n",
       "    .dataframe thead th {\n",
       "        text-align: right;\n",
       "    }\n",
       "</style>\n",
       "<table border=\"1\" class=\"dataframe\">\n",
       "  <thead>\n",
       "    <tr style=\"text-align: right;\">\n",
       "      <th></th>\n",
       "      <th>brand</th>\n",
       "      <th>milage</th>\n",
       "      <th>fuel_type</th>\n",
       "      <th>transmission</th>\n",
       "      <th>ext_col</th>\n",
       "      <th>int_col</th>\n",
       "      <th>accident</th>\n",
       "      <th>clean_title</th>\n",
       "      <th>price</th>\n",
       "      <th>Age</th>\n",
       "      <th>Horsepower</th>\n",
       "      <th>Engine_Displacement</th>\n",
       "    </tr>\n",
       "  </thead>\n",
       "  <tbody>\n",
       "    <tr>\n",
       "      <th>0</th>\n",
       "      <td>Ford</td>\n",
       "      <td>51000.0</td>\n",
       "      <td>E85 Flex Fuel</td>\n",
       "      <td>Automatic</td>\n",
       "      <td>Black</td>\n",
       "      <td>Black</td>\n",
       "      <td>At least 1 accident or damage reported</td>\n",
       "      <td>Yes</td>\n",
       "      <td>4.012837</td>\n",
       "      <td>11</td>\n",
       "      <td>300.000000</td>\n",
       "      <td>3.7</td>\n",
       "    </tr>\n",
       "    <tr>\n",
       "      <th>1</th>\n",
       "      <td>Hyundai</td>\n",
       "      <td>34742.0</td>\n",
       "      <td>Gasoline</td>\n",
       "      <td>Automatic</td>\n",
       "      <td>Moonlight Cloud</td>\n",
       "      <td>Gray</td>\n",
       "      <td>At least 1 accident or damage reported</td>\n",
       "      <td>Yes</td>\n",
       "      <td>4.579841</td>\n",
       "      <td>3</td>\n",
       "      <td>332.283839</td>\n",
       "      <td>3.8</td>\n",
       "    </tr>\n",
       "    <tr>\n",
       "      <th>2</th>\n",
       "      <td>Lexus</td>\n",
       "      <td>22372.0</td>\n",
       "      <td>Gasoline</td>\n",
       "      <td>Automatic</td>\n",
       "      <td>Blue</td>\n",
       "      <td>Black</td>\n",
       "      <td>None reported</td>\n",
       "      <td>no</td>\n",
       "      <td>4.737177</td>\n",
       "      <td>2</td>\n",
       "      <td>332.283839</td>\n",
       "      <td>3.5</td>\n",
       "    </tr>\n",
       "    <tr>\n",
       "      <th>3</th>\n",
       "      <td>INFINITI</td>\n",
       "      <td>88900.0</td>\n",
       "      <td>Hybrid</td>\n",
       "      <td>Automatic</td>\n",
       "      <td>Black</td>\n",
       "      <td>Black</td>\n",
       "      <td>None reported</td>\n",
       "      <td>Yes</td>\n",
       "      <td>4.190332</td>\n",
       "      <td>9</td>\n",
       "      <td>354.000000</td>\n",
       "      <td>3.5</td>\n",
       "    </tr>\n",
       "    <tr>\n",
       "      <th>4</th>\n",
       "      <td>Audi</td>\n",
       "      <td>9835.0</td>\n",
       "      <td>Gasoline</td>\n",
       "      <td>Automatic</td>\n",
       "      <td>Glacier White Metallic</td>\n",
       "      <td>Black</td>\n",
       "      <td>None reported</td>\n",
       "      <td>no</td>\n",
       "      <td>4.544056</td>\n",
       "      <td>3</td>\n",
       "      <td>332.283839</td>\n",
       "      <td>2.0</td>\n",
       "    </tr>\n",
       "  </tbody>\n",
       "</table>\n",
       "</div>"
      ],
      "text/plain": [
       "      brand   milage      fuel_type transmission                 ext_col  \\\n",
       "0      Ford  51000.0  E85 Flex Fuel    Automatic                   Black   \n",
       "1   Hyundai  34742.0       Gasoline    Automatic         Moonlight Cloud   \n",
       "2     Lexus  22372.0       Gasoline    Automatic                    Blue   \n",
       "3  INFINITI  88900.0         Hybrid    Automatic                   Black   \n",
       "4      Audi   9835.0       Gasoline    Automatic  Glacier White Metallic   \n",
       "\n",
       "  int_col                                accident clean_title     price  Age  \\\n",
       "0   Black  At least 1 accident or damage reported         Yes  4.012837   11   \n",
       "1    Gray  At least 1 accident or damage reported         Yes  4.579841    3   \n",
       "2   Black                           None reported          no  4.737177    2   \n",
       "3   Black                           None reported         Yes  4.190332    9   \n",
       "4   Black                           None reported          no  4.544056    3   \n",
       "\n",
       "   Horsepower  Engine_Displacement  \n",
       "0  300.000000                  3.7  \n",
       "1  332.283839                  3.8  \n",
       "2  332.283839                  3.5  \n",
       "3  354.000000                  3.5  \n",
       "4  332.283839                  2.0  "
      ]
     },
     "execution_count": 49,
     "metadata": {},
     "output_type": "execute_result"
    }
   ],
   "source": [
    "df.head()"
   ]
  },
  {
   "cell_type": "code",
   "execution_count": 50,
   "id": "7b614be1",
   "metadata": {
    "execution": {
     "iopub.execute_input": "2024-10-24T14:04:49.687092Z",
     "iopub.status.busy": "2024-10-24T14:04:49.686647Z",
     "iopub.status.idle": "2024-10-24T14:04:49.698925Z",
     "shell.execute_reply": "2024-10-24T14:04:49.697321Z"
    },
    "papermill": {
     "duration": 0.053398,
     "end_time": "2024-10-24T14:04:49.701827",
     "exception": false,
     "start_time": "2024-10-24T14:04:49.648429",
     "status": "completed"
    },
    "tags": []
   },
   "outputs": [
    {
     "data": {
      "text/plain": [
       "ext_col\n",
       "Black                       905\n",
       "White                       816\n",
       "Gray                        496\n",
       "Silver                      374\n",
       "Blue                        349\n",
       "                           ... \n",
       "Anthracite Blue Metallic      1\n",
       "Moonlight Cloud               1\n",
       "Silver Mist                   1\n",
       "Cirrus Silver Metallic        1\n",
       "C / C                         1\n",
       "Name: count, Length: 319, dtype: int64"
      ]
     },
     "execution_count": 50,
     "metadata": {},
     "output_type": "execute_result"
    }
   ],
   "source": [
    "df['ext_col'].value_counts()"
   ]
  },
  {
   "cell_type": "code",
   "execution_count": 51,
   "id": "d744210d",
   "metadata": {
    "execution": {
     "iopub.execute_input": "2024-10-24T14:04:49.777304Z",
     "iopub.status.busy": "2024-10-24T14:04:49.776823Z",
     "iopub.status.idle": "2024-10-24T14:04:49.789489Z",
     "shell.execute_reply": "2024-10-24T14:04:49.788316Z"
    },
    "papermill": {
     "duration": 0.053815,
     "end_time": "2024-10-24T14:04:49.791942",
     "exception": false,
     "start_time": "2024-10-24T14:04:49.738127",
     "status": "completed"
    },
    "tags": []
   },
   "outputs": [
    {
     "data": {
      "text/plain": [
       "int_col\n",
       "Black               2025\n",
       "Beige                538\n",
       "Gray                 472\n",
       "Brown                157\n",
       "–                    133\n",
       "                    ... \n",
       "Almond Beige           1\n",
       "Kyalami Orange         1\n",
       "Sakhir Orange          1\n",
       "Tan/Ebony              1\n",
       "Black / Graphite       1\n",
       "Name: count, Length: 156, dtype: int64"
      ]
     },
     "execution_count": 51,
     "metadata": {},
     "output_type": "execute_result"
    }
   ],
   "source": [
    "df['int_col'].value_counts()"
   ]
  },
  {
   "cell_type": "code",
   "execution_count": 52,
   "id": "97fc4b3c",
   "metadata": {
    "execution": {
     "iopub.execute_input": "2024-10-24T14:04:49.865523Z",
     "iopub.status.busy": "2024-10-24T14:04:49.865075Z",
     "iopub.status.idle": "2024-10-24T14:04:49.883445Z",
     "shell.execute_reply": "2024-10-24T14:04:49.882326Z"
    },
    "papermill": {
     "duration": 0.05798,
     "end_time": "2024-10-24T14:04:49.885953",
     "exception": false,
     "start_time": "2024-10-24T14:04:49.827973",
     "status": "completed"
    },
    "tags": []
   },
   "outputs": [],
   "source": [
    "def base_color (df):\n",
    "    base_colors= [\n",
    "        'black', 'white', 'gray', 'silver', 'brown', 'red', 'blue', 'green',\n",
    "         'orange', 'yellow']\n",
    "    df['int_col'] = df['int_col'].str.lower()\n",
    "    df['ext_col'] = df['ext_col'].str.lower()\n",
    "\n",
    "    def find_color(text):\n",
    "        for color in base_colors:\n",
    "            if color in text :\n",
    "                return color\n",
    "        return 'other'    \n",
    "        \n",
    "    df['int_col'] = df['int_col'].apply(find_color)\n",
    "    df['ext_col'] = df['ext_col'].apply(find_color)\n",
    "    \n",
    "    return df\n",
    "df= base_color(df)\n"
   ]
  },
  {
   "cell_type": "code",
   "execution_count": 53,
   "id": "7c358fe8",
   "metadata": {
    "execution": {
     "iopub.execute_input": "2024-10-24T14:04:49.960954Z",
     "iopub.status.busy": "2024-10-24T14:04:49.960535Z",
     "iopub.status.idle": "2024-10-24T14:04:49.980548Z",
     "shell.execute_reply": "2024-10-24T14:04:49.979340Z"
    },
    "papermill": {
     "duration": 0.059919,
     "end_time": "2024-10-24T14:04:49.983033",
     "exception": false,
     "start_time": "2024-10-24T14:04:49.923114",
     "status": "completed"
    },
    "tags": []
   },
   "outputs": [
    {
     "data": {
      "text/html": [
       "<div>\n",
       "<style scoped>\n",
       "    .dataframe tbody tr th:only-of-type {\n",
       "        vertical-align: middle;\n",
       "    }\n",
       "\n",
       "    .dataframe tbody tr th {\n",
       "        vertical-align: top;\n",
       "    }\n",
       "\n",
       "    .dataframe thead th {\n",
       "        text-align: right;\n",
       "    }\n",
       "</style>\n",
       "<table border=\"1\" class=\"dataframe\">\n",
       "  <thead>\n",
       "    <tr style=\"text-align: right;\">\n",
       "      <th></th>\n",
       "      <th>brand</th>\n",
       "      <th>milage</th>\n",
       "      <th>fuel_type</th>\n",
       "      <th>transmission</th>\n",
       "      <th>ext_col</th>\n",
       "      <th>int_col</th>\n",
       "      <th>accident</th>\n",
       "      <th>clean_title</th>\n",
       "      <th>price</th>\n",
       "      <th>Age</th>\n",
       "      <th>Horsepower</th>\n",
       "      <th>Engine_Displacement</th>\n",
       "    </tr>\n",
       "  </thead>\n",
       "  <tbody>\n",
       "    <tr>\n",
       "      <th>0</th>\n",
       "      <td>Ford</td>\n",
       "      <td>51000.0</td>\n",
       "      <td>E85 Flex Fuel</td>\n",
       "      <td>Automatic</td>\n",
       "      <td>black</td>\n",
       "      <td>black</td>\n",
       "      <td>At least 1 accident or damage reported</td>\n",
       "      <td>Yes</td>\n",
       "      <td>4.012837</td>\n",
       "      <td>11</td>\n",
       "      <td>300.000000</td>\n",
       "      <td>3.7</td>\n",
       "    </tr>\n",
       "    <tr>\n",
       "      <th>1</th>\n",
       "      <td>Hyundai</td>\n",
       "      <td>34742.0</td>\n",
       "      <td>Gasoline</td>\n",
       "      <td>Automatic</td>\n",
       "      <td>other</td>\n",
       "      <td>gray</td>\n",
       "      <td>At least 1 accident or damage reported</td>\n",
       "      <td>Yes</td>\n",
       "      <td>4.579841</td>\n",
       "      <td>3</td>\n",
       "      <td>332.283839</td>\n",
       "      <td>3.8</td>\n",
       "    </tr>\n",
       "    <tr>\n",
       "      <th>2</th>\n",
       "      <td>Lexus</td>\n",
       "      <td>22372.0</td>\n",
       "      <td>Gasoline</td>\n",
       "      <td>Automatic</td>\n",
       "      <td>blue</td>\n",
       "      <td>black</td>\n",
       "      <td>None reported</td>\n",
       "      <td>no</td>\n",
       "      <td>4.737177</td>\n",
       "      <td>2</td>\n",
       "      <td>332.283839</td>\n",
       "      <td>3.5</td>\n",
       "    </tr>\n",
       "    <tr>\n",
       "      <th>3</th>\n",
       "      <td>INFINITI</td>\n",
       "      <td>88900.0</td>\n",
       "      <td>Hybrid</td>\n",
       "      <td>Automatic</td>\n",
       "      <td>black</td>\n",
       "      <td>black</td>\n",
       "      <td>None reported</td>\n",
       "      <td>Yes</td>\n",
       "      <td>4.190332</td>\n",
       "      <td>9</td>\n",
       "      <td>354.000000</td>\n",
       "      <td>3.5</td>\n",
       "    </tr>\n",
       "    <tr>\n",
       "      <th>4</th>\n",
       "      <td>Audi</td>\n",
       "      <td>9835.0</td>\n",
       "      <td>Gasoline</td>\n",
       "      <td>Automatic</td>\n",
       "      <td>white</td>\n",
       "      <td>black</td>\n",
       "      <td>None reported</td>\n",
       "      <td>no</td>\n",
       "      <td>4.544056</td>\n",
       "      <td>3</td>\n",
       "      <td>332.283839</td>\n",
       "      <td>2.0</td>\n",
       "    </tr>\n",
       "  </tbody>\n",
       "</table>\n",
       "</div>"
      ],
      "text/plain": [
       "      brand   milage      fuel_type transmission ext_col int_col  \\\n",
       "0      Ford  51000.0  E85 Flex Fuel    Automatic   black   black   \n",
       "1   Hyundai  34742.0       Gasoline    Automatic   other    gray   \n",
       "2     Lexus  22372.0       Gasoline    Automatic    blue   black   \n",
       "3  INFINITI  88900.0         Hybrid    Automatic   black   black   \n",
       "4      Audi   9835.0       Gasoline    Automatic   white   black   \n",
       "\n",
       "                                 accident clean_title     price  Age  \\\n",
       "0  At least 1 accident or damage reported         Yes  4.012837   11   \n",
       "1  At least 1 accident or damage reported         Yes  4.579841    3   \n",
       "2                           None reported          no  4.737177    2   \n",
       "3                           None reported         Yes  4.190332    9   \n",
       "4                           None reported          no  4.544056    3   \n",
       "\n",
       "   Horsepower  Engine_Displacement  \n",
       "0  300.000000                  3.7  \n",
       "1  332.283839                  3.8  \n",
       "2  332.283839                  3.5  \n",
       "3  354.000000                  3.5  \n",
       "4  332.283839                  2.0  "
      ]
     },
     "execution_count": 53,
     "metadata": {},
     "output_type": "execute_result"
    }
   ],
   "source": [
    "df.head()"
   ]
  },
  {
   "cell_type": "code",
   "execution_count": 54,
   "id": "09576da2",
   "metadata": {
    "execution": {
     "iopub.execute_input": "2024-10-24T14:04:50.056585Z",
     "iopub.status.busy": "2024-10-24T14:04:50.056101Z",
     "iopub.status.idle": "2024-10-24T14:04:50.066119Z",
     "shell.execute_reply": "2024-10-24T14:04:50.065111Z"
    },
    "papermill": {
     "duration": 0.049458,
     "end_time": "2024-10-24T14:04:50.068475",
     "exception": false,
     "start_time": "2024-10-24T14:04:50.019017",
     "status": "completed"
    },
    "tags": []
   },
   "outputs": [
    {
     "data": {
      "text/plain": [
       "ext_col\n",
       "black     1016\n",
       "white      922\n",
       "gray       535\n",
       "silver     421\n",
       "blue       395\n",
       "red        311\n",
       "other      218\n",
       "green       80\n",
       "brown       44\n",
       "orange      37\n",
       "yellow      30\n",
       "Name: count, dtype: int64"
      ]
     },
     "execution_count": 54,
     "metadata": {},
     "output_type": "execute_result"
    }
   ],
   "source": [
    "df['ext_col'].value_counts()"
   ]
  },
  {
   "cell_type": "code",
   "execution_count": 55,
   "id": "eb02f95b",
   "metadata": {
    "execution": {
     "iopub.execute_input": "2024-10-24T14:04:50.142876Z",
     "iopub.status.busy": "2024-10-24T14:04:50.142470Z",
     "iopub.status.idle": "2024-10-24T14:04:50.152748Z",
     "shell.execute_reply": "2024-10-24T14:04:50.151593Z"
    },
    "papermill": {
     "duration": 0.050536,
     "end_time": "2024-10-24T14:04:50.155106",
     "exception": false,
     "start_time": "2024-10-24T14:04:50.104570",
     "status": "completed"
    },
    "tags": []
   },
   "outputs": [
    {
     "data": {
      "text/plain": [
       "int_col\n",
       "black     2155\n",
       "other      862\n",
       "gray       483\n",
       "brown      163\n",
       "red        134\n",
       "white      131\n",
       "blue        32\n",
       "orange      23\n",
       "silver      16\n",
       "green        8\n",
       "yellow       2\n",
       "Name: count, dtype: int64"
      ]
     },
     "execution_count": 55,
     "metadata": {},
     "output_type": "execute_result"
    }
   ],
   "source": [
    "df['int_col'].value_counts()"
   ]
  },
  {
   "cell_type": "code",
   "execution_count": 56,
   "id": "4aa1d11f",
   "metadata": {
    "execution": {
     "iopub.execute_input": "2024-10-24T14:04:50.229150Z",
     "iopub.status.busy": "2024-10-24T14:04:50.228751Z",
     "iopub.status.idle": "2024-10-24T14:04:50.245936Z",
     "shell.execute_reply": "2024-10-24T14:04:50.244769Z"
    },
    "papermill": {
     "duration": 0.057829,
     "end_time": "2024-10-24T14:04:50.249052",
     "exception": false,
     "start_time": "2024-10-24T14:04:50.191223",
     "status": "completed"
    },
    "tags": []
   },
   "outputs": [
    {
     "name": "stdout",
     "output_type": "stream",
     "text": [
      "<class 'pandas.core.frame.DataFrame'>\n",
      "RangeIndex: 4009 entries, 0 to 4008\n",
      "Data columns (total 12 columns):\n",
      " #   Column               Non-Null Count  Dtype  \n",
      "---  ------               --------------  -----  \n",
      " 0   brand                4009 non-null   object \n",
      " 1   milage               4009 non-null   float64\n",
      " 2   fuel_type            4009 non-null   object \n",
      " 3   transmission         4009 non-null   object \n",
      " 4   ext_col              4009 non-null   object \n",
      " 5   int_col              4009 non-null   object \n",
      " 6   accident             4009 non-null   object \n",
      " 7   clean_title          4009 non-null   object \n",
      " 8   price                4009 non-null   float64\n",
      " 9   Age                  4009 non-null   int64  \n",
      " 10  Horsepower           4009 non-null   float64\n",
      " 11  Engine_Displacement  4009 non-null   float64\n",
      "dtypes: float64(4), int64(1), object(7)\n",
      "memory usage: 376.0+ KB\n"
     ]
    }
   ],
   "source": [
    "df.info()"
   ]
  },
  {
   "cell_type": "code",
   "execution_count": 57,
   "id": "ae44807d",
   "metadata": {
    "execution": {
     "iopub.execute_input": "2024-10-24T14:04:50.323451Z",
     "iopub.status.busy": "2024-10-24T14:04:50.322993Z",
     "iopub.status.idle": "2024-10-24T14:04:51.154246Z",
     "shell.execute_reply": "2024-10-24T14:04:51.153119Z"
    },
    "papermill": {
     "duration": 0.871378,
     "end_time": "2024-10-24T14:04:51.156749",
     "exception": false,
     "start_time": "2024-10-24T14:04:50.285371",
     "status": "completed"
    },
    "tags": []
   },
   "outputs": [
    {
     "data": {
      "image/png": "[encoded data removed]",
      "text/plain": [
       "<Figure size 1200x800 with 1 Axes>"
      ]
     },
     "metadata": {},
     "output_type": "display_data"
    }
   ],
   "source": [
    "brand_counts=df[\"brand\"].value_counts()\n",
    "\n",
    "plt.figure(figsize=(12, 8))\n",
    "sns.barplot(x=brand_counts.index, y = brand_counts.values,palette='viridis')\n",
    "plt.xticks(rotation=90)\n",
    "plt.title('Distribution of Car Manufacturers')\n",
    "plt.xlabel('Manufacturer')\n",
    "plt.ylabel('Count')\n",
    "plt.show()"
   ]
  },
  {
   "cell_type": "code",
   "execution_count": 58,
   "id": "32d322f0",
   "metadata": {
    "execution": {
     "iopub.execute_input": "2024-10-24T14:04:51.234416Z",
     "iopub.status.busy": "2024-10-24T14:04:51.233963Z",
     "iopub.status.idle": "2024-10-24T14:04:51.505678Z",
     "shell.execute_reply": "2024-10-24T14:04:51.504338Z"
    },
    "papermill": {
     "duration": 0.315477,
     "end_time": "2024-10-24T14:04:51.510213",
     "exception": false,
     "start_time": "2024-10-24T14:04:51.194736",
     "status": "completed"
    },
    "tags": []
   },
   "outputs": [
    {
     "data": {
      "image/png": "[encoded data removed]",
      "text/plain": [
       "<Figure size 1500x600 with 1 Axes>"
      ]
     },
     "metadata": {},
     "output_type": "display_data"
    }
   ],
   "source": [
    "plt.figure(figsize=(15, 6))\n",
    "sns.boxplot(data=df,x=\"accident\",y=\"price\")\n",
    "plt.title(\"Price Distribution by Accident\")\n",
    "plt.xlabel(\"Accident\")\n",
    "plt.ylabel(\"Price\")\n",
    "\n",
    "plt.show()"
   ]
  },
  {
   "cell_type": "code",
   "execution_count": null,
   "id": "6d180a0c",
   "metadata": {
    "papermill": {
     "duration": 0.046783,
     "end_time": "2024-10-24T14:04:51.606219",
     "exception": false,
     "start_time": "2024-10-24T14:04:51.559436",
     "status": "completed"
    },
    "tags": []
   },
   "outputs": [],
   "source": []
  },
  {
   "cell_type": "code",
   "execution_count": 59,
   "id": "c9dabb1b",
   "metadata": {
    "execution": {
     "iopub.execute_input": "2024-10-24T14:04:51.690994Z",
     "iopub.status.busy": "2024-10-24T14:04:51.690411Z",
     "iopub.status.idle": "2024-10-24T14:04:51.704109Z",
     "shell.execute_reply": "2024-10-24T14:04:51.702977Z"
    },
    "papermill": {
     "duration": 0.067051,
     "end_time": "2024-10-24T14:04:51.713162",
     "exception": false,
     "start_time": "2024-10-24T14:04:51.646111",
     "status": "completed"
    },
    "tags": []
   },
   "outputs": [],
   "source": [
    "Q1 = df['Age'].quantile(0.25)\n",
    "Q3 = df['Age'].quantile(0.75)\n",
    "IQR = Q3 - Q1\n",
    "lower_bound = Q1 - 1.5 * IQR\n",
    "upper_bound = Q3 + 1.5 * IQR\n",
    "df['Age'] = np.where(df['Age'] < lower_bound, lower_bound, df['Age'])\n",
    "df['Age'] = np.where(df['Age'] > upper_bound, upper_bound, df['Age'])"
   ]
  },
  {
   "cell_type": "code",
   "execution_count": 60,
   "id": "fc949ffa",
   "metadata": {
    "execution": {
     "iopub.execute_input": "2024-10-24T14:04:51.794322Z",
     "iopub.status.busy": "2024-10-24T14:04:51.793703Z",
     "iopub.status.idle": "2024-10-24T14:04:51.807845Z",
     "shell.execute_reply": "2024-10-24T14:04:51.806546Z"
    },
    "papermill": {
     "duration": 0.057669,
     "end_time": "2024-10-24T14:04:51.810652",
     "exception": false,
     "start_time": "2024-10-24T14:04:51.752983",
     "status": "completed"
    },
    "tags": []
   },
   "outputs": [],
   "source": [
    "Q1 = df['price'].quantile(0.25)\n",
    "Q3 = df['price'].quantile(0.75)\n",
    "IQR = Q3 - Q1\n",
    "lower_bound = Q1 - 1.5 * IQR\n",
    "upper_bound = Q3 + 1.5 * IQR\n",
    "df['price'] = np.where(df['price'] < lower_bound, lower_bound, df['price'])\n",
    "df['price'] = np.where(df['price'] > upper_bound, upper_bound, df['price'])"
   ]
  },
  {
   "cell_type": "code",
   "execution_count": 61,
   "id": "8c148f10",
   "metadata": {
    "execution": {
     "iopub.execute_input": "2024-10-24T14:04:51.891129Z",
     "iopub.status.busy": "2024-10-24T14:04:51.890686Z",
     "iopub.status.idle": "2024-10-24T14:04:51.903925Z",
     "shell.execute_reply": "2024-10-24T14:04:51.901822Z"
    },
    "papermill": {
     "duration": 0.057442,
     "end_time": "2024-10-24T14:04:51.907192",
     "exception": false,
     "start_time": "2024-10-24T14:04:51.849750",
     "status": "completed"
    },
    "tags": []
   },
   "outputs": [],
   "source": [
    "Q1 = df['milage'].quantile(0.25)\n",
    "Q3 = df['milage'].quantile(0.75)\n",
    "IQR = Q3 - Q1\n",
    "lower_bound = Q1 - 1.5 * IQR\n",
    "upper_bound = Q3 + 1.5 * IQR\n",
    "df['milage'] = np.where(df['milage'] < lower_bound, lower_bound, df['milage'])\n",
    "df['milage'] = np.where(df['milage'] > upper_bound, upper_bound, df['milage'])"
   ]
  },
  {
   "cell_type": "code",
   "execution_count": 62,
   "id": "f1b32fe0",
   "metadata": {
    "execution": {
     "iopub.execute_input": "2024-10-24T14:04:51.990855Z",
     "iopub.status.busy": "2024-10-24T14:04:51.990359Z",
     "iopub.status.idle": "2024-10-24T14:04:52.003820Z",
     "shell.execute_reply": "2024-10-24T14:04:52.002629Z"
    },
    "papermill": {
     "duration": 0.059015,
     "end_time": "2024-10-24T14:04:52.006407",
     "exception": false,
     "start_time": "2024-10-24T14:04:51.947392",
     "status": "completed"
    },
    "tags": []
   },
   "outputs": [],
   "source": [
    "Q1 = df['Horsepower'].quantile(0.25)\n",
    "Q3 = df['Horsepower'].quantile(0.75)\n",
    "IQR = Q3 - Q1\n",
    "lower_bound = Q1 - 1.5 * IQR\n",
    "upper_bound = Q3 + 1.5 * IQR\n",
    "df['Horsepower'] = np.where(df['Horsepower'] < lower_bound, lower_bound, df['Horsepower'])\n",
    "df['Horsepower'] = np.where(df['Horsepower'] > upper_bound, upper_bound, df['Horsepower'])"
   ]
  },
  {
   "cell_type": "code",
   "execution_count": 63,
   "id": "40c9198f",
   "metadata": {
    "execution": {
     "iopub.execute_input": "2024-10-24T14:04:52.088081Z",
     "iopub.status.busy": "2024-10-24T14:04:52.086898Z",
     "iopub.status.idle": "2024-10-24T14:04:52.100757Z",
     "shell.execute_reply": "2024-10-24T14:04:52.099254Z"
    },
    "papermill": {
     "duration": 0.056653,
     "end_time": "2024-10-24T14:04:52.103710",
     "exception": false,
     "start_time": "2024-10-24T14:04:52.047057",
     "status": "completed"
    },
    "tags": []
   },
   "outputs": [],
   "source": [
    "Q1 = df['Engine_Displacement'].quantile(0.25)\n",
    "Q3 = df['Engine_Displacement'].quantile(0.75)\n",
    "IQR = Q3 - Q1\n",
    "lower_bound = Q1 - 1.5 * IQR\n",
    "upper_bound = Q3 + 1.5 * IQR\n",
    "df['Engine_Displacement'] = np.where(df['Engine_Displacement'] < lower_bound, lower_bound, df['Engine_Displacement'])\n",
    "df['Engine_Displacement'] = np.where(df['Engine_Displacement'] > upper_bound, upper_bound, df['Engine_Displacement'])"
   ]
  },
  {
   "cell_type": "code",
   "execution_count": 64,
   "id": "fca33bf5",
   "metadata": {
    "execution": {
     "iopub.execute_input": "2024-10-24T14:04:52.185523Z",
     "iopub.status.busy": "2024-10-24T14:04:52.184899Z",
     "iopub.status.idle": "2024-10-24T14:04:52.404260Z",
     "shell.execute_reply": "2024-10-24T14:04:52.403152Z"
    },
    "papermill": {
     "duration": 0.264348,
     "end_time": "2024-10-24T14:04:52.407494",
     "exception": false,
     "start_time": "2024-10-24T14:04:52.143146",
     "status": "completed"
    },
    "tags": []
   },
   "outputs": [
    {
     "data": {
      "image/png": "[encoded data removed]",
      "text/plain": [
       "<Figure size 640x480 with 1 Axes>"
      ]
     },
     "metadata": {},
     "output_type": "display_data"
    }
   ],
   "source": [
    "sns.boxplot(df[\"price\"])\n",
    "plt.show()"
   ]
  },
  {
   "cell_type": "code",
   "execution_count": 65,
   "id": "576fbb61",
   "metadata": {
    "execution": {
     "iopub.execute_input": "2024-10-24T14:04:52.490051Z",
     "iopub.status.busy": "2024-10-24T14:04:52.489598Z",
     "iopub.status.idle": "2024-10-24T14:04:52.693563Z",
     "shell.execute_reply": "2024-10-24T14:04:52.692328Z"
    },
    "papermill": {
     "duration": 0.247565,
     "end_time": "2024-10-24T14:04:52.696380",
     "exception": false,
     "start_time": "2024-10-24T14:04:52.448815",
     "status": "completed"
    },
    "tags": []
   },
   "outputs": [
    {
     "data": {
      "image/png": "[encoded data removed]",
      "text/plain": [
       "<Figure size 640x480 with 1 Axes>"
      ]
     },
     "metadata": {},
     "output_type": "display_data"
    }
   ],
   "source": [
    "sns.boxplot(df[\"Age\"])\n",
    "plt.show()"
   ]
  },
  {
   "cell_type": "code",
   "execution_count": 66,
   "id": "6321be42",
   "metadata": {
    "execution": {
     "iopub.execute_input": "2024-10-24T14:04:52.776448Z",
     "iopub.status.busy": "2024-10-24T14:04:52.775881Z",
     "iopub.status.idle": "2024-10-24T14:04:52.997791Z",
     "shell.execute_reply": "2024-10-24T14:04:52.996543Z"
    },
    "papermill": {
     "duration": 0.265003,
     "end_time": "2024-10-24T14:04:53.000524",
     "exception": false,
     "start_time": "2024-10-24T14:04:52.735521",
     "status": "completed"
    },
    "tags": []
   },
   "outputs": [
    {
     "data": {
      "image/png": "[encoded data removed]",
      "text/plain": [
       "<Figure size 640x480 with 1 Axes>"
      ]
     },
     "metadata": {},
     "output_type": "display_data"
    }
   ],
   "source": [
    "sns.boxplot(df[\"milage\"])\n",
    "plt.show()"
   ]
  },
  {
   "cell_type": "code",
   "execution_count": 67,
   "id": "77530670",
   "metadata": {
    "execution": {
     "iopub.execute_input": "2024-10-24T14:04:53.082558Z",
     "iopub.status.busy": "2024-10-24T14:04:53.082000Z",
     "iopub.status.idle": "2024-10-24T14:04:53.288515Z",
     "shell.execute_reply": "2024-10-24T14:04:53.287326Z"
    },
    "papermill": {
     "duration": 0.250464,
     "end_time": "2024-10-24T14:04:53.291052",
     "exception": false,
     "start_time": "2024-10-24T14:04:53.040588",
     "status": "completed"
    },
    "tags": []
   },
   "outputs": [
    {
     "data": {
      "image/png": "[encoded data removed]",
      "text/plain": [
       "<Figure size 640x480 with 1 Axes>"
      ]
     },
     "metadata": {},
     "output_type": "display_data"
    }
   ],
   "source": [
    "sns.boxplot(df[\"Horsepower\"])\n",
    "plt.show()"
   ]
  },
  {
   "cell_type": "code",
   "execution_count": 68,
   "id": "92a83fcc",
   "metadata": {
    "execution": {
     "iopub.execute_input": "2024-10-24T14:04:53.372840Z",
     "iopub.status.busy": "2024-10-24T14:04:53.372414Z",
     "iopub.status.idle": "2024-10-24T14:04:53.589664Z",
     "shell.execute_reply": "2024-10-24T14:04:53.584166Z"
    },
    "papermill": {
     "duration": 0.262469,
     "end_time": "2024-10-24T14:04:53.593881",
     "exception": false,
     "start_time": "2024-10-24T14:04:53.331412",
     "status": "completed"
    },
    "tags": []
   },
   "outputs": [
    {
     "data": {
      "image/png": "[encoded data removed]",
      "text/plain": [
       "<Figure size 640x480 with 1 Axes>"
      ]
     },
     "metadata": {},
     "output_type": "display_data"
    }
   ],
   "source": [
    "sns.boxplot(df[\"Engine_Displacement\"])\n",
    "plt.show()"
   ]
  },
  {
   "cell_type": "code",
   "execution_count": 69,
   "id": "526eee9b",
   "metadata": {
    "execution": {
     "iopub.execute_input": "2024-10-24T14:04:53.681186Z",
     "iopub.status.busy": "2024-10-24T14:04:53.680739Z",
     "iopub.status.idle": "2024-10-24T14:04:53.701141Z",
     "shell.execute_reply": "2024-10-24T14:04:53.699429Z"
    },
    "papermill": {
     "duration": 0.068191,
     "end_time": "2024-10-24T14:04:53.704905",
     "exception": false,
     "start_time": "2024-10-24T14:04:53.636714",
     "status": "completed"
    },
    "tags": []
   },
   "outputs": [
    {
     "data": {
      "text/html": [
       "<div>\n",
       "<style scoped>\n",
       "    .dataframe tbody tr th:only-of-type {\n",
       "        vertical-align: middle;\n",
       "    }\n",
       "\n",
       "    .dataframe tbody tr th {\n",
       "        vertical-align: top;\n",
       "    }\n",
       "\n",
       "    .dataframe thead th {\n",
       "        text-align: right;\n",
       "    }\n",
       "</style>\n",
       "<table border=\"1\" class=\"dataframe\">\n",
       "  <thead>\n",
       "    <tr style=\"text-align: right;\">\n",
       "      <th></th>\n",
       "      <th>milage</th>\n",
       "      <th>price</th>\n",
       "      <th>Age</th>\n",
       "      <th>Horsepower</th>\n",
       "      <th>Engine_Displacement</th>\n",
       "    </tr>\n",
       "  </thead>\n",
       "  <tbody>\n",
       "    <tr>\n",
       "      <th>milage</th>\n",
       "      <td>1.000000</td>\n",
       "      <td>-0.729271</td>\n",
       "      <td>0.638573</td>\n",
       "      <td>-0.321750</td>\n",
       "      <td>0.064927</td>\n",
       "    </tr>\n",
       "    <tr>\n",
       "      <th>price</th>\n",
       "      <td>-0.729271</td>\n",
       "      <td>1.000000</td>\n",
       "      <td>-0.651029</td>\n",
       "      <td>0.608604</td>\n",
       "      <td>0.249686</td>\n",
       "    </tr>\n",
       "    <tr>\n",
       "      <th>Age</th>\n",
       "      <td>0.638573</td>\n",
       "      <td>-0.651029</td>\n",
       "      <td>1.000000</td>\n",
       "      <td>-0.271184</td>\n",
       "      <td>0.110915</td>\n",
       "    </tr>\n",
       "    <tr>\n",
       "      <th>Horsepower</th>\n",
       "      <td>-0.321750</td>\n",
       "      <td>0.608604</td>\n",
       "      <td>-0.271184</td>\n",
       "      <td>1.000000</td>\n",
       "      <td>0.557892</td>\n",
       "    </tr>\n",
       "    <tr>\n",
       "      <th>Engine_Displacement</th>\n",
       "      <td>0.064927</td>\n",
       "      <td>0.249686</td>\n",
       "      <td>0.110915</td>\n",
       "      <td>0.557892</td>\n",
       "      <td>1.000000</td>\n",
       "    </tr>\n",
       "  </tbody>\n",
       "</table>\n",
       "</div>"
      ],
      "text/plain": [
       "                       milage     price       Age  Horsepower  \\\n",
       "milage               1.000000 -0.729271  0.638573   -0.321750   \n",
       "price               -0.729271  1.000000 -0.651029    0.608604   \n",
       "Age                  0.638573 -0.651029  1.000000   -0.271184   \n",
       "Horsepower          -0.321750  0.608604 -0.271184    1.000000   \n",
       "Engine_Displacement  0.064927  0.249686  0.110915    0.557892   \n",
       "\n",
       "                     Engine_Displacement  \n",
       "milage                          0.064927  \n",
       "price                           0.249686  \n",
       "Age                             0.110915  \n",
       "Horsepower                      0.557892  \n",
       "Engine_Displacement             1.000000  "
      ]
     },
     "execution_count": 69,
     "metadata": {},
     "output_type": "execute_result"
    }
   ],
   "source": [
    "df.corr(numeric_only=True)\n"
   ]
  },
  {
   "cell_type": "code",
   "execution_count": 70,
   "id": "09b258f7",
   "metadata": {
    "execution": {
     "iopub.execute_input": "2024-10-24T14:04:53.816733Z",
     "iopub.status.busy": "2024-10-24T14:04:53.816273Z",
     "iopub.status.idle": "2024-10-24T14:04:53.828637Z",
     "shell.execute_reply": "2024-10-24T14:04:53.826864Z"
    },
    "papermill": {
     "duration": 0.065765,
     "end_time": "2024-10-24T14:04:53.831659",
     "exception": false,
     "start_time": "2024-10-24T14:04:53.765894",
     "status": "completed"
    },
    "tags": []
   },
   "outputs": [],
   "source": [
    "df[\"transmission\"] = df[\"transmission\"].replace({'Automatic':1,\n",
    "                                                'Manual':2,\n",
    "                                                'Other':3})"
   ]
  },
  {
   "cell_type": "code",
   "execution_count": 71,
   "id": "e56607ff",
   "metadata": {
    "execution": {
     "iopub.execute_input": "2024-10-24T14:04:53.927056Z",
     "iopub.status.busy": "2024-10-24T14:04:53.926271Z",
     "iopub.status.idle": "2024-10-24T14:04:53.943100Z",
     "shell.execute_reply": "2024-10-24T14:04:53.941867Z"
    },
    "papermill": {
     "duration": 0.064209,
     "end_time": "2024-10-24T14:04:53.946025",
     "exception": false,
     "start_time": "2024-10-24T14:04:53.881816",
     "status": "completed"
    },
    "tags": []
   },
   "outputs": [
    {
     "data": {
      "text/plain": [
       "accident\n",
       "0    3023\n",
       "1     986\n",
       "Name: count, dtype: int64"
      ]
     },
     "execution_count": 71,
     "metadata": {},
     "output_type": "execute_result"
    }
   ],
   "source": [
    "df[\"accident\"] = df[\"accident\"].replace({'At least 1 accident or damage reported':1,\"None reported\":0}) \n",
    "df[\"accident\"].value_counts()"
   ]
  },
  {
   "cell_type": "code",
   "execution_count": 72,
   "id": "150d9528",
   "metadata": {
    "execution": {
     "iopub.execute_input": "2024-10-24T14:04:54.031431Z",
     "iopub.status.busy": "2024-10-24T14:04:54.030942Z",
     "iopub.status.idle": "2024-10-24T14:04:54.046982Z",
     "shell.execute_reply": "2024-10-24T14:04:54.045606Z"
    },
    "papermill": {
     "duration": 0.062072,
     "end_time": "2024-10-24T14:04:54.050692",
     "exception": false,
     "start_time": "2024-10-24T14:04:53.988620",
     "status": "completed"
    },
    "tags": []
   },
   "outputs": [
    {
     "data": {
      "text/plain": [
       "clean_title\n",
       "1    3413\n",
       "0     596\n",
       "Name: count, dtype: int64"
      ]
     },
     "execution_count": 72,
     "metadata": {},
     "output_type": "execute_result"
    }
   ],
   "source": [
    "df[\"clean_title\"] = df[\"clean_title\"].replace({\"Yes\":1,\"no\":0})\n",
    "df[\"clean_title\"].value_counts()"
   ]
  },
  {
   "cell_type": "code",
   "execution_count": 73,
   "id": "47cb98a3",
   "metadata": {
    "execution": {
     "iopub.execute_input": "2024-10-24T14:04:54.137652Z",
     "iopub.status.busy": "2024-10-24T14:04:54.137149Z",
     "iopub.status.idle": "2024-10-24T14:04:54.159983Z",
     "shell.execute_reply": "2024-10-24T14:04:54.158662Z"
    },
    "papermill": {
     "duration": 0.071701,
     "end_time": "2024-10-24T14:04:54.163596",
     "exception": false,
     "start_time": "2024-10-24T14:04:54.091895",
     "status": "completed"
    },
    "tags": []
   },
   "outputs": [
    {
     "data": {
      "text/html": [
       "<div>\n",
       "<style scoped>\n",
       "    .dataframe tbody tr th:only-of-type {\n",
       "        vertical-align: middle;\n",
       "    }\n",
       "\n",
       "    .dataframe tbody tr th {\n",
       "        vertical-align: top;\n",
       "    }\n",
       "\n",
       "    .dataframe thead th {\n",
       "        text-align: right;\n",
       "    }\n",
       "</style>\n",
       "<table border=\"1\" class=\"dataframe\">\n",
       "  <thead>\n",
       "    <tr style=\"text-align: right;\">\n",
       "      <th></th>\n",
       "      <th>brand</th>\n",
       "      <th>milage</th>\n",
       "      <th>fuel_type</th>\n",
       "      <th>transmission</th>\n",
       "      <th>ext_col</th>\n",
       "      <th>int_col</th>\n",
       "      <th>accident</th>\n",
       "      <th>clean_title</th>\n",
       "      <th>price</th>\n",
       "      <th>Age</th>\n",
       "      <th>Horsepower</th>\n",
       "      <th>Engine_Displacement</th>\n",
       "    </tr>\n",
       "  </thead>\n",
       "  <tbody>\n",
       "    <tr>\n",
       "      <th>0</th>\n",
       "      <td>Ford</td>\n",
       "      <td>51000.0</td>\n",
       "      <td>E85 Flex Fuel</td>\n",
       "      <td>1</td>\n",
       "      <td>black</td>\n",
       "      <td>black</td>\n",
       "      <td>1</td>\n",
       "      <td>1</td>\n",
       "      <td>4.012837</td>\n",
       "      <td>11.0</td>\n",
       "      <td>300.000000</td>\n",
       "      <td>3.7</td>\n",
       "    </tr>\n",
       "    <tr>\n",
       "      <th>1</th>\n",
       "      <td>Hyundai</td>\n",
       "      <td>34742.0</td>\n",
       "      <td>Gasoline</td>\n",
       "      <td>1</td>\n",
       "      <td>other</td>\n",
       "      <td>gray</td>\n",
       "      <td>1</td>\n",
       "      <td>1</td>\n",
       "      <td>4.579841</td>\n",
       "      <td>3.0</td>\n",
       "      <td>332.283839</td>\n",
       "      <td>3.8</td>\n",
       "    </tr>\n",
       "    <tr>\n",
       "      <th>2</th>\n",
       "      <td>Lexus</td>\n",
       "      <td>22372.0</td>\n",
       "      <td>Gasoline</td>\n",
       "      <td>1</td>\n",
       "      <td>blue</td>\n",
       "      <td>black</td>\n",
       "      <td>0</td>\n",
       "      <td>0</td>\n",
       "      <td>4.737177</td>\n",
       "      <td>2.0</td>\n",
       "      <td>332.283839</td>\n",
       "      <td>3.5</td>\n",
       "    </tr>\n",
       "    <tr>\n",
       "      <th>3</th>\n",
       "      <td>INFINITI</td>\n",
       "      <td>88900.0</td>\n",
       "      <td>Hybrid</td>\n",
       "      <td>1</td>\n",
       "      <td>black</td>\n",
       "      <td>black</td>\n",
       "      <td>0</td>\n",
       "      <td>1</td>\n",
       "      <td>4.190332</td>\n",
       "      <td>9.0</td>\n",
       "      <td>354.000000</td>\n",
       "      <td>3.5</td>\n",
       "    </tr>\n",
       "    <tr>\n",
       "      <th>4</th>\n",
       "      <td>Audi</td>\n",
       "      <td>9835.0</td>\n",
       "      <td>Gasoline</td>\n",
       "      <td>1</td>\n",
       "      <td>white</td>\n",
       "      <td>black</td>\n",
       "      <td>0</td>\n",
       "      <td>0</td>\n",
       "      <td>4.544056</td>\n",
       "      <td>3.0</td>\n",
       "      <td>332.283839</td>\n",
       "      <td>2.0</td>\n",
       "    </tr>\n",
       "  </tbody>\n",
       "</table>\n",
       "</div>"
      ],
      "text/plain": [
       "      brand   milage      fuel_type  transmission ext_col int_col  accident  \\\n",
       "0      Ford  51000.0  E85 Flex Fuel             1   black   black         1   \n",
       "1   Hyundai  34742.0       Gasoline             1   other    gray         1   \n",
       "2     Lexus  22372.0       Gasoline             1    blue   black         0   \n",
       "3  INFINITI  88900.0         Hybrid             1   black   black         0   \n",
       "4      Audi   9835.0       Gasoline             1   white   black         0   \n",
       "\n",
       "   clean_title     price   Age  Horsepower  Engine_Displacement  \n",
       "0            1  4.012837  11.0  300.000000                  3.7  \n",
       "1            1  4.579841   3.0  332.283839                  3.8  \n",
       "2            0  4.737177   2.0  332.283839                  3.5  \n",
       "3            1  4.190332   9.0  354.000000                  3.5  \n",
       "4            0  4.544056   3.0  332.283839                  2.0  "
      ]
     },
     "execution_count": 73,
     "metadata": {},
     "output_type": "execute_result"
    }
   ],
   "source": [
    "df.head()"
   ]
  },
  {
   "cell_type": "code",
   "execution_count": 74,
   "id": "3dfbe620",
   "metadata": {
    "execution": {
     "iopub.execute_input": "2024-10-24T14:04:54.252617Z",
     "iopub.status.busy": "2024-10-24T14:04:54.251074Z",
     "iopub.status.idle": "2024-10-24T14:05:10.006749Z",
     "shell.execute_reply": "2024-10-24T14:05:10.005426Z"
    },
    "papermill": {
     "duration": 15.802842,
     "end_time": "2024-10-24T14:05:10.009366",
     "exception": false,
     "start_time": "2024-10-24T14:04:54.206524",
     "status": "completed"
    },
    "tags": []
   },
   "outputs": [
    {
     "name": "stdout",
     "output_type": "stream",
     "text": [
      "Requirement already satisfied: category_encoders in /opt/conda/lib/python3.10/site-packages (2.6.4)\r\n",
      "Requirement already satisfied: numpy>=1.14.0 in /opt/conda/lib/python3.10/site-packages (from category_encoders) (1.26.4)\r\n",
      "Requirement already satisfied: scikit-learn>=0.20.0 in /opt/conda/lib/python3.10/site-packages (from category_encoders) (1.2.2)\r\n",
      "Requirement already satisfied: scipy>=1.0.0 in /opt/conda/lib/python3.10/site-packages (from category_encoders) (1.14.1)\r\n",
      "Requirement already satisfied: statsmodels>=0.9.0 in /opt/conda/lib/python3.10/site-packages (from category_encoders) (0.14.2)\r\n",
      "Requirement already satisfied: pandas>=1.0.5 in /opt/conda/lib/python3.10/site-packages (from category_encoders) (2.2.3)\r\n",
      "Requirement already satisfied: patsy>=0.5.1 in /opt/conda/lib/python3.10/site-packages (from category_encoders) (0.5.6)\r\n",
      "Requirement already satisfied: python-dateutil>=2.8.2 in /opt/conda/lib/python3.10/site-packages (from pandas>=1.0.5->category_encoders) (2.9.0.post0)\r\n",
      "Requirement already satisfied: pytz>=2020.1 in /opt/conda/lib/python3.10/site-packages (from pandas>=1.0.5->category_encoders) (2024.1)\r\n",
      "Requirement already satisfied: tzdata>=2022.7 in /opt/conda/lib/python3.10/site-packages (from pandas>=1.0.5->category_encoders) (2024.1)\r\n",
      "Requirement already satisfied: six in /opt/conda/lib/python3.10/site-packages (from patsy>=0.5.1->category_encoders) (1.16.0)\r\n",
      "Requirement already satisfied: joblib>=1.1.1 in /opt/conda/lib/python3.10/site-packages (from scikit-learn>=0.20.0->category_encoders) (1.4.2)\r\n",
      "Requirement already satisfied: threadpoolctl>=2.0.0 in /opt/conda/lib/python3.10/site-packages (from scikit-learn>=0.20.0->category_encoders) (3.5.0)\r\n",
      "Requirement already satisfied: packaging>=21.3 in /opt/conda/lib/python3.10/site-packages (from statsmodels>=0.9.0->category_encoders) (21.3)\r\n",
      "Requirement already satisfied: pyparsing!=3.0.5,>=2.0.2 in /opt/conda/lib/python3.10/site-packages (from packaging>=21.3->statsmodels>=0.9.0->category_encoders) (3.1.2)\r\n",
      "Note: you may need to restart the kernel to use updated packages.\n"
     ]
    }
   ],
   "source": [
    "pip install category_encoders"
   ]
  },
  {
   "cell_type": "code",
   "execution_count": 75,
   "id": "67572be6",
   "metadata": {
    "execution": {
     "iopub.execute_input": "2024-10-24T14:05:10.096029Z",
     "iopub.status.busy": "2024-10-24T14:05:10.095544Z",
     "iopub.status.idle": "2024-10-24T14:05:10.793140Z",
     "shell.execute_reply": "2024-10-24T14:05:10.792034Z"
    },
    "papermill": {
     "duration": 0.743962,
     "end_time": "2024-10-24T14:05:10.795796",
     "exception": false,
     "start_time": "2024-10-24T14:05:10.051834",
     "status": "completed"
    },
    "tags": []
   },
   "outputs": [],
   "source": [
    "import category_encoders as ce\n",
    "from sklearn.preprocessing import LabelEncoder"
   ]
  },
  {
   "cell_type": "code",
   "execution_count": 76,
   "id": "e019475b",
   "metadata": {
    "execution": {
     "iopub.execute_input": "2024-10-24T14:05:10.883463Z",
     "iopub.status.busy": "2024-10-24T14:05:10.882353Z",
     "iopub.status.idle": "2024-10-24T14:05:10.915149Z",
     "shell.execute_reply": "2024-10-24T14:05:10.914043Z"
    },
    "papermill": {
     "duration": 0.079098,
     "end_time": "2024-10-24T14:05:10.918073",
     "exception": false,
     "start_time": "2024-10-24T14:05:10.838975",
     "status": "completed"
    },
    "tags": []
   },
   "outputs": [],
   "source": [
    "encoder = ce.BinaryEncoder(cols=['brand'])\n",
    "df_binary_encoded = encoder.fit_transform(df)"
   ]
  },
  {
   "cell_type": "code",
   "execution_count": 77,
   "id": "8603533b",
   "metadata": {
    "execution": {
     "iopub.execute_input": "2024-10-24T14:05:11.004377Z",
     "iopub.status.busy": "2024-10-24T14:05:11.003917Z",
     "iopub.status.idle": "2024-10-24T14:05:11.016072Z",
     "shell.execute_reply": "2024-10-24T14:05:11.014805Z"
    },
    "papermill": {
     "duration": 0.058797,
     "end_time": "2024-10-24T14:05:11.019211",
     "exception": false,
     "start_time": "2024-10-24T14:05:10.960414",
     "status": "completed"
    },
    "tags": []
   },
   "outputs": [],
   "source": [
    "le = LabelEncoder()\n",
    "categorical_columns = ['fuel_type', 'ext_col', 'int_col']\n",
    "\n",
    "for col in categorical_columns:\n",
    "    df_binary_encoded[col] = le.fit_transform(df_binary_encoded[col])"
   ]
  },
  {
   "cell_type": "code",
   "execution_count": 78,
   "id": "1a6e529f",
   "metadata": {
    "execution": {
     "iopub.execute_input": "2024-10-24T14:05:11.107876Z",
     "iopub.status.busy": "2024-10-24T14:05:11.106992Z",
     "iopub.status.idle": "2024-10-24T14:05:11.128093Z",
     "shell.execute_reply": "2024-10-24T14:05:11.126979Z"
    },
    "papermill": {
     "duration": 0.067164,
     "end_time": "2024-10-24T14:05:11.130484",
     "exception": false,
     "start_time": "2024-10-24T14:05:11.063320",
     "status": "completed"
    },
    "tags": []
   },
   "outputs": [
    {
     "data": {
      "text/html": [
       "<div>\n",
       "<style scoped>\n",
       "    .dataframe tbody tr th:only-of-type {\n",
       "        vertical-align: middle;\n",
       "    }\n",
       "\n",
       "    .dataframe tbody tr th {\n",
       "        vertical-align: top;\n",
       "    }\n",
       "\n",
       "    .dataframe thead th {\n",
       "        text-align: right;\n",
       "    }\n",
       "</style>\n",
       "<table border=\"1\" class=\"dataframe\">\n",
       "  <thead>\n",
       "    <tr style=\"text-align: right;\">\n",
       "      <th></th>\n",
       "      <th>brand_0</th>\n",
       "      <th>brand_1</th>\n",
       "      <th>brand_2</th>\n",
       "      <th>brand_3</th>\n",
       "      <th>brand_4</th>\n",
       "      <th>brand_5</th>\n",
       "      <th>milage</th>\n",
       "      <th>fuel_type</th>\n",
       "      <th>transmission</th>\n",
       "      <th>ext_col</th>\n",
       "      <th>int_col</th>\n",
       "      <th>accident</th>\n",
       "      <th>clean_title</th>\n",
       "      <th>price</th>\n",
       "      <th>Age</th>\n",
       "      <th>Horsepower</th>\n",
       "      <th>Engine_Displacement</th>\n",
       "    </tr>\n",
       "  </thead>\n",
       "  <tbody>\n",
       "    <tr>\n",
       "      <th>0</th>\n",
       "      <td>0</td>\n",
       "      <td>0</td>\n",
       "      <td>0</td>\n",
       "      <td>0</td>\n",
       "      <td>0</td>\n",
       "      <td>1</td>\n",
       "      <td>51000.0</td>\n",
       "      <td>1</td>\n",
       "      <td>1</td>\n",
       "      <td>0</td>\n",
       "      <td>0</td>\n",
       "      <td>1</td>\n",
       "      <td>1</td>\n",
       "      <td>4.012837</td>\n",
       "      <td>11.0</td>\n",
       "      <td>300.000000</td>\n",
       "      <td>3.7</td>\n",
       "    </tr>\n",
       "    <tr>\n",
       "      <th>1</th>\n",
       "      <td>0</td>\n",
       "      <td>0</td>\n",
       "      <td>0</td>\n",
       "      <td>0</td>\n",
       "      <td>1</td>\n",
       "      <td>0</td>\n",
       "      <td>34742.0</td>\n",
       "      <td>2</td>\n",
       "      <td>1</td>\n",
       "      <td>6</td>\n",
       "      <td>3</td>\n",
       "      <td>1</td>\n",
       "      <td>1</td>\n",
       "      <td>4.579841</td>\n",
       "      <td>3.0</td>\n",
       "      <td>332.283839</td>\n",
       "      <td>3.8</td>\n",
       "    </tr>\n",
       "    <tr>\n",
       "      <th>2</th>\n",
       "      <td>0</td>\n",
       "      <td>0</td>\n",
       "      <td>0</td>\n",
       "      <td>0</td>\n",
       "      <td>1</td>\n",
       "      <td>1</td>\n",
       "      <td>22372.0</td>\n",
       "      <td>2</td>\n",
       "      <td>1</td>\n",
       "      <td>1</td>\n",
       "      <td>0</td>\n",
       "      <td>0</td>\n",
       "      <td>0</td>\n",
       "      <td>4.737177</td>\n",
       "      <td>2.0</td>\n",
       "      <td>332.283839</td>\n",
       "      <td>3.5</td>\n",
       "    </tr>\n",
       "    <tr>\n",
       "      <th>3</th>\n",
       "      <td>0</td>\n",
       "      <td>0</td>\n",
       "      <td>0</td>\n",
       "      <td>1</td>\n",
       "      <td>0</td>\n",
       "      <td>0</td>\n",
       "      <td>88900.0</td>\n",
       "      <td>3</td>\n",
       "      <td>1</td>\n",
       "      <td>0</td>\n",
       "      <td>0</td>\n",
       "      <td>0</td>\n",
       "      <td>1</td>\n",
       "      <td>4.190332</td>\n",
       "      <td>9.0</td>\n",
       "      <td>354.000000</td>\n",
       "      <td>3.5</td>\n",
       "    </tr>\n",
       "    <tr>\n",
       "      <th>4</th>\n",
       "      <td>0</td>\n",
       "      <td>0</td>\n",
       "      <td>0</td>\n",
       "      <td>1</td>\n",
       "      <td>0</td>\n",
       "      <td>1</td>\n",
       "      <td>9835.0</td>\n",
       "      <td>2</td>\n",
       "      <td>1</td>\n",
       "      <td>9</td>\n",
       "      <td>0</td>\n",
       "      <td>0</td>\n",
       "      <td>0</td>\n",
       "      <td>4.544056</td>\n",
       "      <td>3.0</td>\n",
       "      <td>332.283839</td>\n",
       "      <td>2.0</td>\n",
       "    </tr>\n",
       "  </tbody>\n",
       "</table>\n",
       "</div>"
      ],
      "text/plain": [
       "   brand_0  brand_1  brand_2  brand_3  brand_4  brand_5   milage  fuel_type  \\\n",
       "0        0        0        0        0        0        1  51000.0          1   \n",
       "1        0        0        0        0        1        0  34742.0          2   \n",
       "2        0        0        0        0        1        1  22372.0          2   \n",
       "3        0        0        0        1        0        0  88900.0          3   \n",
       "4        0        0        0        1        0        1   9835.0          2   \n",
       "\n",
       "   transmission  ext_col  int_col  accident  clean_title     price   Age  \\\n",
       "0             1        0        0         1            1  4.012837  11.0   \n",
       "1             1        6        3         1            1  4.579841   3.0   \n",
       "2             1        1        0         0            0  4.737177   2.0   \n",
       "3             1        0        0         0            1  4.190332   9.0   \n",
       "4             1        9        0         0            0  4.544056   3.0   \n",
       "\n",
       "   Horsepower  Engine_Displacement  \n",
       "0  300.000000                  3.7  \n",
       "1  332.283839                  3.8  \n",
       "2  332.283839                  3.5  \n",
       "3  354.000000                  3.5  \n",
       "4  332.283839                  2.0  "
      ]
     },
     "execution_count": 78,
     "metadata": {},
     "output_type": "execute_result"
    }
   ],
   "source": [
    "df_binary_encoded.head()"
   ]
  },
  {
   "cell_type": "code",
   "execution_count": 79,
   "id": "afe2a496",
   "metadata": {
    "execution": {
     "iopub.execute_input": "2024-10-24T14:05:11.216998Z",
     "iopub.status.busy": "2024-10-24T14:05:11.216588Z",
     "iopub.status.idle": "2024-10-24T14:05:11.226278Z",
     "shell.execute_reply": "2024-10-24T14:05:11.225300Z"
    },
    "papermill": {
     "duration": 0.055322,
     "end_time": "2024-10-24T14:05:11.228721",
     "exception": false,
     "start_time": "2024-10-24T14:05:11.173399",
     "status": "completed"
    },
    "tags": []
   },
   "outputs": [
    {
     "data": {
      "text/plain": [
       "((4009, 16), (4009,))"
      ]
     },
     "execution_count": 79,
     "metadata": {},
     "output_type": "execute_result"
    }
   ],
   "source": [
    "x = df_binary_encoded.drop(\"price\",axis=1)\n",
    "y = df_binary_encoded[\"price\"]\n",
    "x.shape,y.shape"
   ]
  },
  {
   "cell_type": "code",
   "execution_count": 80,
   "id": "0f98b571",
   "metadata": {
    "execution": {
     "iopub.execute_input": "2024-10-24T14:05:11.314870Z",
     "iopub.status.busy": "2024-10-24T14:05:11.313885Z",
     "iopub.status.idle": "2024-10-24T14:05:11.438183Z",
     "shell.execute_reply": "2024-10-24T14:05:11.437149Z"
    },
    "papermill": {
     "duration": 0.170153,
     "end_time": "2024-10-24T14:05:11.440998",
     "exception": false,
     "start_time": "2024-10-24T14:05:11.270845",
     "status": "completed"
    },
    "tags": []
   },
   "outputs": [],
   "source": [
    "from sklearn.model_selection import train_test_split"
   ]
  },
  {
   "cell_type": "code",
   "execution_count": 81,
   "id": "d2e9e179",
   "metadata": {
    "execution": {
     "iopub.execute_input": "2024-10-24T14:05:11.527732Z",
     "iopub.status.busy": "2024-10-24T14:05:11.527254Z",
     "iopub.status.idle": "2024-10-24T14:05:11.541487Z",
     "shell.execute_reply": "2024-10-24T14:05:11.540428Z"
    },
    "papermill": {
     "duration": 0.060667,
     "end_time": "2024-10-24T14:05:11.544076",
     "exception": false,
     "start_time": "2024-10-24T14:05:11.483409",
     "status": "completed"
    },
    "tags": []
   },
   "outputs": [],
   "source": [
    "x_train,x_test,y_train,y_test=train_test_split(x,y,test_size=0.2,random_state=42)\n",
    "x_train,x_valid,y_train,y_valid=train_test_split(x_train,y_train,test_size=0.1,random_state=42)"
   ]
  },
  {
   "cell_type": "code",
   "execution_count": 82,
   "id": "f0069cef",
   "metadata": {
    "execution": {
     "iopub.execute_input": "2024-10-24T14:05:11.631196Z",
     "iopub.status.busy": "2024-10-24T14:05:11.630430Z",
     "iopub.status.idle": "2024-10-24T14:05:11.635708Z",
     "shell.execute_reply": "2024-10-24T14:05:11.634668Z"
    },
    "papermill": {
     "duration": 0.051273,
     "end_time": "2024-10-24T14:05:11.638153",
     "exception": false,
     "start_time": "2024-10-24T14:05:11.586880",
     "status": "completed"
    },
    "tags": []
   },
   "outputs": [],
   "source": [
    "from sklearn.preprocessing import StandardScaler\n",
    "scale = StandardScaler()"
   ]
  },
  {
   "cell_type": "code",
   "execution_count": 83,
   "id": "b351b8aa",
   "metadata": {
    "execution": {
     "iopub.execute_input": "2024-10-24T14:05:11.724321Z",
     "iopub.status.busy": "2024-10-24T14:05:11.723837Z",
     "iopub.status.idle": "2024-10-24T14:05:11.736980Z",
     "shell.execute_reply": "2024-10-24T14:05:11.736046Z"
    },
    "papermill": {
     "duration": 0.059201,
     "end_time": "2024-10-24T14:05:11.739607",
     "exception": false,
     "start_time": "2024-10-24T14:05:11.680406",
     "status": "completed"
    },
    "tags": []
   },
   "outputs": [],
   "source": [
    "x_scaled = scale.fit_transform(x_train)\n",
    "x_valid_scaled = scale.transform(x_valid)\n"
   ]
  },
  {
   "cell_type": "code",
   "execution_count": 84,
   "id": "7e20048e",
   "metadata": {
    "execution": {
     "iopub.execute_input": "2024-10-24T14:05:11.827349Z",
     "iopub.status.busy": "2024-10-24T14:05:11.826858Z",
     "iopub.status.idle": "2024-10-24T14:05:11.852856Z",
     "shell.execute_reply": "2024-10-24T14:05:11.851599Z"
    },
    "papermill": {
     "duration": 0.071758,
     "end_time": "2024-10-24T14:05:11.855389",
     "exception": false,
     "start_time": "2024-10-24T14:05:11.783631",
     "status": "completed"
    },
    "tags": []
   },
   "outputs": [
    {
     "data": {
      "text/html": [
       "<div>\n",
       "<style scoped>\n",
       "    .dataframe tbody tr th:only-of-type {\n",
       "        vertical-align: middle;\n",
       "    }\n",
       "\n",
       "    .dataframe tbody tr th {\n",
       "        vertical-align: top;\n",
       "    }\n",
       "\n",
       "    .dataframe thead th {\n",
       "        text-align: right;\n",
       "    }\n",
       "</style>\n",
       "<table border=\"1\" class=\"dataframe\">\n",
       "  <thead>\n",
       "    <tr style=\"text-align: right;\">\n",
       "      <th></th>\n",
       "      <th>brand_0</th>\n",
       "      <th>brand_1</th>\n",
       "      <th>brand_2</th>\n",
       "      <th>brand_3</th>\n",
       "      <th>brand_4</th>\n",
       "      <th>brand_5</th>\n",
       "      <th>milage</th>\n",
       "      <th>fuel_type</th>\n",
       "      <th>transmission</th>\n",
       "      <th>ext_col</th>\n",
       "      <th>int_col</th>\n",
       "      <th>accident</th>\n",
       "      <th>clean_title</th>\n",
       "      <th>Age</th>\n",
       "      <th>Horsepower</th>\n",
       "      <th>Engine_Displacement</th>\n",
       "    </tr>\n",
       "  </thead>\n",
       "  <tbody>\n",
       "    <tr>\n",
       "      <th>0</th>\n",
       "      <td>-0.389995</td>\n",
       "      <td>-0.674268</td>\n",
       "      <td>1.261215</td>\n",
       "      <td>1.072624</td>\n",
       "      <td>0.992406</td>\n",
       "      <td>-1.198100</td>\n",
       "      <td>-0.032203</td>\n",
       "      <td>-0.155624</td>\n",
       "      <td>-0.371099</td>\n",
       "      <td>-1.224492</td>\n",
       "      <td>1.260441</td>\n",
       "      <td>1.760520</td>\n",
       "      <td>-2.406364</td>\n",
       "      <td>-0.413566</td>\n",
       "      <td>0.024934</td>\n",
       "      <td>-0.502239</td>\n",
       "    </tr>\n",
       "    <tr>\n",
       "      <th>1</th>\n",
       "      <td>-0.389995</td>\n",
       "      <td>-0.674268</td>\n",
       "      <td>1.261215</td>\n",
       "      <td>-0.932293</td>\n",
       "      <td>0.992406</td>\n",
       "      <td>0.834655</td>\n",
       "      <td>0.499388</td>\n",
       "      <td>-0.155624</td>\n",
       "      <td>-0.371099</td>\n",
       "      <td>-1.224492</td>\n",
       "      <td>-0.813072</td>\n",
       "      <td>-0.568014</td>\n",
       "      <td>0.415565</td>\n",
       "      <td>-0.070246</td>\n",
       "      <td>-0.632748</td>\n",
       "      <td>-0.136396</td>\n",
       "    </tr>\n",
       "    <tr>\n",
       "      <th>2</th>\n",
       "      <td>-0.389995</td>\n",
       "      <td>-0.674268</td>\n",
       "      <td>-0.792886</td>\n",
       "      <td>1.072624</td>\n",
       "      <td>0.992406</td>\n",
       "      <td>0.834655</td>\n",
       "      <td>-0.025301</td>\n",
       "      <td>-0.155624</td>\n",
       "      <td>-0.371099</td>\n",
       "      <td>1.219974</td>\n",
       "      <td>1.260441</td>\n",
       "      <td>-0.568014</td>\n",
       "      <td>0.415565</td>\n",
       "      <td>-0.241906</td>\n",
       "      <td>-0.837366</td>\n",
       "      <td>-1.233924</td>\n",
       "    </tr>\n",
       "    <tr>\n",
       "      <th>3</th>\n",
       "      <td>-0.389995</td>\n",
       "      <td>-0.674268</td>\n",
       "      <td>-0.792886</td>\n",
       "      <td>-0.932293</td>\n",
       "      <td>-1.007652</td>\n",
       "      <td>0.834655</td>\n",
       "      <td>2.459453</td>\n",
       "      <td>-1.313180</td>\n",
       "      <td>-0.371099</td>\n",
       "      <td>-0.952884</td>\n",
       "      <td>-0.813072</td>\n",
       "      <td>-0.568014</td>\n",
       "      <td>0.415565</td>\n",
       "      <td>0.616393</td>\n",
       "      <td>-0.919214</td>\n",
       "      <td>-0.502239</td>\n",
       "    </tr>\n",
       "    <tr>\n",
       "      <th>4</th>\n",
       "      <td>-0.389995</td>\n",
       "      <td>1.483090</td>\n",
       "      <td>-0.792886</td>\n",
       "      <td>1.072624</td>\n",
       "      <td>-1.007652</td>\n",
       "      <td>0.834655</td>\n",
       "      <td>-0.643876</td>\n",
       "      <td>-0.155624</td>\n",
       "      <td>-0.371099</td>\n",
       "      <td>-1.224492</td>\n",
       "      <td>1.260441</td>\n",
       "      <td>1.760520</td>\n",
       "      <td>0.415565</td>\n",
       "      <td>-0.413566</td>\n",
       "      <td>2.257484</td>\n",
       "      <td>1.692818</td>\n",
       "    </tr>\n",
       "  </tbody>\n",
       "</table>\n",
       "</div>"
      ],
      "text/plain": [
       "    brand_0   brand_1   brand_2   brand_3   brand_4   brand_5    milage  \\\n",
       "0 -0.389995 -0.674268  1.261215  1.072624  0.992406 -1.198100 -0.032203   \n",
       "1 -0.389995 -0.674268  1.261215 -0.932293  0.992406  0.834655  0.499388   \n",
       "2 -0.389995 -0.674268 -0.792886  1.072624  0.992406  0.834655 -0.025301   \n",
       "3 -0.389995 -0.674268 -0.792886 -0.932293 -1.007652  0.834655  2.459453   \n",
       "4 -0.389995  1.483090 -0.792886  1.072624 -1.007652  0.834655 -0.643876   \n",
       "\n",
       "   fuel_type  transmission   ext_col   int_col  accident  clean_title  \\\n",
       "0  -0.155624     -0.371099 -1.224492  1.260441  1.760520    -2.406364   \n",
       "1  -0.155624     -0.371099 -1.224492 -0.813072 -0.568014     0.415565   \n",
       "2  -0.155624     -0.371099  1.219974  1.260441 -0.568014     0.415565   \n",
       "3  -1.313180     -0.371099 -0.952884 -0.813072 -0.568014     0.415565   \n",
       "4  -0.155624     -0.371099 -1.224492  1.260441  1.760520     0.415565   \n",
       "\n",
       "        Age  Horsepower  Engine_Displacement  \n",
       "0 -0.413566    0.024934            -0.502239  \n",
       "1 -0.070246   -0.632748            -0.136396  \n",
       "2 -0.241906   -0.837366            -1.233924  \n",
       "3  0.616393   -0.919214            -0.502239  \n",
       "4 -0.413566    2.257484             1.692818  "
      ]
     },
     "execution_count": 84,
     "metadata": {},
     "output_type": "execute_result"
    }
   ],
   "source": [
    "x_scaled = pd.DataFrame(x_scaled,columns=['brand_0', 'brand_1', 'brand_2', 'brand_3', 'brand_4', \n",
    "                'brand_5', 'milage', 'fuel_type', 'transmission', \n",
    "                'ext_col', 'int_col', 'accident', 'clean_title', 'Age',\"Horsepower\",\"Engine_Displacement\"])\n",
    "x_scaled.head()"
   ]
  },
  {
   "cell_type": "code",
   "execution_count": 85,
   "id": "c56d8aa6",
   "metadata": {
    "execution": {
     "iopub.execute_input": "2024-10-24T14:05:11.942948Z",
     "iopub.status.busy": "2024-10-24T14:05:11.942063Z",
     "iopub.status.idle": "2024-10-24T14:05:11.948700Z",
     "shell.execute_reply": "2024-10-24T14:05:11.947528Z"
    },
    "papermill": {
     "duration": 0.052702,
     "end_time": "2024-10-24T14:05:11.951128",
     "exception": false,
     "start_time": "2024-10-24T14:05:11.898426",
     "status": "completed"
    },
    "tags": []
   },
   "outputs": [],
   "source": [
    "x_valid_scaled = pd.DataFrame(x_valid_scaled,columns=['brand_0', 'brand_1', 'brand_2', 'brand_3', 'brand_4', \n",
    "                'brand_5', 'milage', 'fuel_type', 'transmission', \n",
    "                'ext_col', 'int_col', 'accident', 'clean_title', 'Age',\"Horsepower\",\"Engine_Displacement\"])"
   ]
  },
  {
   "cell_type": "code",
   "execution_count": 86,
   "id": "4eb1743c",
   "metadata": {
    "execution": {
     "iopub.execute_input": "2024-10-24T14:05:12.038169Z",
     "iopub.status.busy": "2024-10-24T14:05:12.037730Z",
     "iopub.status.idle": "2024-10-24T14:05:12.268265Z",
     "shell.execute_reply": "2024-10-24T14:05:12.267150Z"
    },
    "papermill": {
     "duration": 0.276983,
     "end_time": "2024-10-24T14:05:12.271117",
     "exception": false,
     "start_time": "2024-10-24T14:05:11.994134",
     "status": "completed"
    },
    "tags": []
   },
   "outputs": [],
   "source": [
    "from xgboost import XGBRegressor"
   ]
  },
  {
   "cell_type": "code",
   "execution_count": 87,
   "id": "a19c2d85",
   "metadata": {
    "execution": {
     "iopub.execute_input": "2024-10-24T14:05:12.357584Z",
     "iopub.status.busy": "2024-10-24T14:05:12.357143Z",
     "iopub.status.idle": "2024-10-24T14:05:12.547003Z",
     "shell.execute_reply": "2024-10-24T14:05:12.545953Z"
    },
    "papermill": {
     "duration": 0.236449,
     "end_time": "2024-10-24T14:05:12.549894",
     "exception": false,
     "start_time": "2024-10-24T14:05:12.313445",
     "status": "completed"
    },
    "tags": []
   },
   "outputs": [
    {
     "data": {
      "text/html": [
       "<style>#sk-container-id-1 {color: black;background-color: white;}#sk-container-id-1 pre{padding: 0;}#sk-container-id-1 div.sk-toggleable {background-color: white;}#sk-container-id-1 label.sk-toggleable__label {cursor: pointer;display: block;width: 100%;margin-bottom: 0;padding: 0.3em;box-sizing: border-box;text-align: center;}#sk-container-id-1 label.sk-toggleable__label-arrow:before {content: \"▸\";float: left;margin-right: 0.25em;color: #696969;}#sk-container-id-1 label.sk-toggleable__label-arrow:hover:before {color: black;}#sk-container-id-1 div.sk-estimator:hover label.sk-toggleable__label-arrow:before {color: black;}#sk-container-id-1 div.sk-toggleable__content {max-height: 0;max-width: 0;overflow: hidden;text-align: left;background-color: #f0f8ff;}#sk-container-id-1 div.sk-toggleable__content pre {margin: 0.2em;color: black;border-radius: 0.25em;background-color: #f0f8ff;}#sk-container-id-1 input.sk-toggleable__control:checked~div.sk-toggleable__content {max-height: 200px;max-width: 100%;overflow: auto;}#sk-container-id-1 input.sk-toggleable__control:checked~label.sk-toggleable__label-arrow:before {content: \"▾\";}#sk-container-id-1 div.sk-estimator input.sk-toggleable__control:checked~label.sk-toggleable__label {background-color: #d4ebff;}#sk-container-id-1 div.sk-label input.sk-toggleable__control:checked~label.sk-toggleable__label {background-color: #d4ebff;}#sk-container-id-1 input.sk-hidden--visually {border: 0;clip: rect(1px 1px 1px 1px);clip: rect(1px, 1px, 1px, 1px);height: 1px;margin: -1px;overflow: hidden;padding: 0;position: absolute;width: 1px;}#sk-container-id-1 div.sk-estimator {font-family: monospace;background-color: #f0f8ff;border: 1px dotted black;border-radius: 0.25em;box-sizing: border-box;margin-bottom: 0.5em;}#sk-container-id-1 div.sk-estimator:hover {background-color: #d4ebff;}#sk-container-id-1 div.sk-parallel-item::after {content: \"\";width: 100%;border-bottom: 1px solid gray;flex-grow: 1;}#sk-container-id-1 div.sk-label:hover label.sk-toggleable__label {background-color: #d4ebff;}#sk-container-id-1 div.sk-serial::before {content: \"\";position: absolute;border-left: 1px solid gray;box-sizing: border-box;top: 0;bottom: 0;left: 50%;z-index: 0;}#sk-container-id-1 div.sk-serial {display: flex;flex-direction: column;align-items: center;background-color: white;padding-right: 0.2em;padding-left: 0.2em;position: relative;}#sk-container-id-1 div.sk-item {position: relative;z-index: 1;}#sk-container-id-1 div.sk-parallel {display: flex;align-items: stretch;justify-content: center;background-color: white;position: relative;}#sk-container-id-1 div.sk-item::before, #sk-container-id-1 div.sk-parallel-item::before {content: \"\";position: absolute;border-left: 1px solid gray;box-sizing: border-box;top: 0;bottom: 0;left: 50%;z-index: -1;}#sk-container-id-1 div.sk-parallel-item {display: flex;flex-direction: column;z-index: 1;position: relative;background-color: white;}#sk-container-id-1 div.sk-parallel-item:first-child::after {align-self: flex-end;width: 50%;}#sk-container-id-1 div.sk-parallel-item:last-child::after {align-self: flex-start;width: 50%;}#sk-container-id-1 div.sk-parallel-item:only-child::after {width: 0;}#sk-container-id-1 div.sk-dashed-wrapped {border: 1px dashed gray;margin: 0 0.4em 0.5em 0.4em;box-sizing: border-box;padding-bottom: 0.4em;background-color: white;}#sk-container-id-1 div.sk-label label {font-family: monospace;font-weight: bold;display: inline-block;line-height: 1.2em;}#sk-container-id-1 div.sk-label-container {text-align: center;}#sk-container-id-1 div.sk-container {/* jupyter's `normalize.less` sets `[hidden] { display: none; }` but bootstrap.min.css set `[hidden] { display: none !important; }` so we also need the `!important` here to be able to override the default hidden behavior on the sphinx rendered scikit-learn.org. See: https://github.com/scikit-learn/scikit-learn/issues/21755 */display: inline-block !important;position: relative;}#sk-container-id-1 div.sk-text-repr-fallback {display: none;}</style><div id=\"sk-container-id-1\" class=\"sk-top-container\"><div class=\"sk-text-repr-fallback\"><pre>XGBRegressor(base_score=None, booster=None, callbacks=None,\n",
       "             colsample_bylevel=None, colsample_bynode=None,\n",
       "             colsample_bytree=None, device=None, early_stopping_rounds=None,\n",
       "             enable_categorical=False, eval_metric=None, feature_types=None,\n",
       "             gamma=None, grow_policy=None, importance_type=None,\n",
       "             interaction_constraints=None, learning_rate=None, max_bin=None,\n",
       "             max_cat_threshold=None, max_cat_to_onehot=None,\n",
       "             max_delta_step=None, max_depth=None, max_leaves=None,\n",
       "             min_child_weight=None, missing=nan, monotone_constraints=None,\n",
       "             multi_strategy=None, n_estimators=None, n_jobs=None,\n",
       "             num_parallel_tree=None, random_state=None, ...)</pre><b>In a Jupyter environment, please rerun this cell to show the HTML representation or trust the notebook. <br />On GitHub, the HTML representation is unable to render, please try loading this page with nbviewer.org.</b></div><div class=\"sk-container\" hidden><div class=\"sk-item\"><div class=\"sk-estimator sk-toggleable\"><input class=\"sk-toggleable__control sk-hidden--visually\" id=\"sk-estimator-id-1\" type=\"checkbox\" checked><label for=\"sk-estimator-id-1\" class=\"sk-toggleable__label sk-toggleable__label-arrow\">XGBRegressor</label><div class=\"sk-toggleable__content\"><pre>XGBRegressor(base_score=None, booster=None, callbacks=None,\n",
       "             colsample_bylevel=None, colsample_bynode=None,\n",
       "             colsample_bytree=None, device=None, early_stopping_rounds=None,\n",
       "             enable_categorical=False, eval_metric=None, feature_types=None,\n",
       "             gamma=None, grow_policy=None, importance_type=None,\n",
       "             interaction_constraints=None, learning_rate=None, max_bin=None,\n",
       "             max_cat_threshold=None, max_cat_to_onehot=None,\n",
       "             max_delta_step=None, max_depth=None, max_leaves=None,\n",
       "             min_child_weight=None, missing=nan, monotone_constraints=None,\n",
       "             multi_strategy=None, n_estimators=None, n_jobs=None,\n",
       "             num_parallel_tree=None, random_state=None, ...)</pre></div></div></div></div></div>"
      ],
      "text/plain": [
       "XGBRegressor(base_score=None, booster=None, callbacks=None,\n",
       "             colsample_bylevel=None, colsample_bynode=None,\n",
       "             colsample_bytree=None, device=None, early_stopping_rounds=None,\n",
       "             enable_categorical=False, eval_metric=None, feature_types=None,\n",
       "             gamma=None, grow_policy=None, importance_type=None,\n",
       "             interaction_constraints=None, learning_rate=None, max_bin=None,\n",
       "             max_cat_threshold=None, max_cat_to_onehot=None,\n",
       "             max_delta_step=None, max_depth=None, max_leaves=None,\n",
       "             min_child_weight=None, missing=nan, monotone_constraints=None,\n",
       "             multi_strategy=None, n_estimators=None, n_jobs=None,\n",
       "             num_parallel_tree=None, random_state=None, ...)"
      ]
     },
     "execution_count": 87,
     "metadata": {},
     "output_type": "execute_result"
    }
   ],
   "source": [
    "model1 = XGBRegressor()\n",
    "model1.fit(x_scaled, y_train)"
   ]
  },
  {
   "cell_type": "code",
   "execution_count": 88,
   "id": "e1a93e5d",
   "metadata": {
    "execution": {
     "iopub.execute_input": "2024-10-24T14:05:12.638219Z",
     "iopub.status.busy": "2024-10-24T14:05:12.637213Z",
     "iopub.status.idle": "2024-10-24T14:05:12.649343Z",
     "shell.execute_reply": "2024-10-24T14:05:12.648222Z"
    },
    "papermill": {
     "duration": 0.058962,
     "end_time": "2024-10-24T14:05:12.652158",
     "exception": false,
     "start_time": "2024-10-24T14:05:12.593196",
     "status": "completed"
    },
    "tags": []
   },
   "outputs": [],
   "source": [
    "y_pred = model1.predict(x_valid_scaled)\n"
   ]
  },
  {
   "cell_type": "code",
   "execution_count": 89,
   "id": "833c1066",
   "metadata": {
    "execution": {
     "iopub.execute_input": "2024-10-24T14:05:12.741200Z",
     "iopub.status.busy": "2024-10-24T14:05:12.740431Z",
     "iopub.status.idle": "2024-10-24T14:05:12.749899Z",
     "shell.execute_reply": "2024-10-24T14:05:12.748822Z"
    },
    "papermill": {
     "duration": 0.055865,
     "end_time": "2024-10-24T14:05:12.752388",
     "exception": false,
     "start_time": "2024-10-24T14:05:12.696523",
     "status": "completed"
    },
    "tags": []
   },
   "outputs": [
    {
     "data": {
      "text/plain": [
       "0.856159899076054"
      ]
     },
     "execution_count": 89,
     "metadata": {},
     "output_type": "execute_result"
    }
   ],
   "source": [
    "from sklearn.metrics import mean_squared_error, r2_score\n",
    "r2_score(y_valid, y_pred)"
   ]
  }
 ],
 "metadata": {
  "kaggle": {
   "accelerator": "none",
   "dataSources": [
    {
     "datasetId": 3742543,
     "sourceId": 6478229,
     "sourceType": "datasetVersion"
    }
   ],
   "dockerImageVersionId": 30786,
   "isGpuEnabled": false,
   "isInternetEnabled": true,
   "language": "python",
   "sourceType": "notebook"
  },
  "kernelspec": {
   "display_name": "Python 3 (ipykernel)",
   "language": "python",
   "name": "python3"
  },
  "language_info": {
   "codemirror_mode": {
    "name": "ipython",
    "version": 3
   },
   "file_extension": ".py",
   "mimetype": "text/x-python",
   "name": "python",
   "nbconvert_exporter": "python",
   "pygments_lexer": "ipython3",
   "version": "3.9.13"
  },
  "papermill": {
   "default_parameters": {},
   "duration": 39.532198,
   "end_time": "2024-10-24T14:05:13.719321",
   "environment_variables": {},
   "exception": null,
   "input_path": "__notebook__.ipynb",
   "output_path": "__notebook__.ipynb",
   "parameters": {},
   "start_time": "2024-10-24T14:04:34.187123",
   "version": "2.6.0"
  }
 },
 "nbformat": 4,
 "nbformat_minor": 5
}
